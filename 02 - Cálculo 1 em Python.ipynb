{
  "nbformat": 4,
  "nbformat_minor": 0,
  "metadata": {
    "colab": {
      "name": "QuestõesAv1-21-1.ipynb",
      "provenance": [],
      "collapsed_sections": []
    },
    "kernelspec": {
      "name": "python3",
      "display_name": "Python 3"
    },
    "language_info": {
      "name": "python"
    }
  },
  "cells": [
    {
      "cell_type": "code",
      "metadata": {
        "id": "irRI7J3_FzK-"
      },
      "source": [
        "import sympy\n",
        "import math\n",
        "x = sympy.symbols('x')"
      ],
      "execution_count": null,
      "outputs": []
    },
    {
      "cell_type": "code",
      "metadata": {
        "id": "Vvrj--4-F27P"
      },
      "source": [
        "#Definir os valores\n",
        "a=3; b=2; c=5"
      ],
      "execution_count": null,
      "outputs": []
    },
    {
      "cell_type": "code",
      "metadata": {
        "id": "Ifxr6djmG0ov"
      },
      "source": [
        "#definir a variável\n",
        "x = sympy.symbols('x')\n"
      ],
      "execution_count": null,
      "outputs": []
    },
    {
      "cell_type": "code",
      "metadata": {
        "colab": {
          "base_uri": "https://localhost:8080/",
          "height": 41
        },
        "id": "_I7nYvlJoeJr",
        "outputId": "ebbe010e-783e-4b55-8634-87589bd18712"
      },
      "source": [
        "y=(x**2+1)**2/(x**2+1)**0.5\n",
        "sympy.diff(y,x)"
      ],
      "execution_count": null,
      "outputs": [
        {
          "output_type": "execute_result",
          "data": {
            "text/latex": "$\\displaystyle 3.0 x \\left(x^{2} + 1\\right)^{0.5}$",
            "text/plain": [
              "3.0*x*(x**2 + 1)**0.5"
            ]
          },
          "metadata": {
            "tags": []
          },
          "execution_count": 20
        }
      ]
    },
    {
      "cell_type": "markdown",
      "metadata": {
        "id": "8TV4Rc_EKTrN"
      },
      "source": [
        "Questão 2:"
      ]
    },
    {
      "cell_type": "code",
      "metadata": {
        "id": "QUkgfWUzKO-a",
        "colab": {
          "base_uri": "https://localhost:8080/",
          "height": 52
        },
        "outputId": "22e823f8-b290-4951-b1b9-5b8bdd7dc038"
      },
      "source": [
        "y=3*x/(2-5*x)\n",
        "y"
      ],
      "execution_count": null,
      "outputs": [
        {
          "output_type": "execute_result",
          "data": {
            "text/latex": "$\\displaystyle \\frac{3 x}{2 - 5 x}$",
            "text/plain": [
              "3*x/(2 - 5*x)"
            ]
          },
          "metadata": {
            "tags": []
          },
          "execution_count": 4
        }
      ]
    },
    {
      "cell_type": "code",
      "metadata": {
        "colab": {
          "base_uri": "https://localhost:8080/",
          "height": 51
        },
        "id": "NLcUrp-jUnv6",
        "outputId": "629c3d4c-0a75-45f5-edca-2214d9e09599"
      },
      "source": [
        "sympy.limit(y,x, '-oo')"
      ],
      "execution_count": null,
      "outputs": [
        {
          "output_type": "execute_result",
          "data": {
            "text/latex": "$\\displaystyle - \\frac{3}{5}$",
            "text/plain": [
              "-3/5"
            ]
          },
          "metadata": {
            "tags": []
          },
          "execution_count": 6
        }
      ]
    },
    {
      "cell_type": "code",
      "metadata": {
        "colab": {
          "base_uri": "https://localhost:8080/"
        },
        "id": "wZJt9COGXKcQ",
        "outputId": "e1ec4f33-d8d9-4953-ff57-61e47a45b644"
      },
      "source": [
        "sympy.solve(2-5*x,x)"
      ],
      "execution_count": null,
      "outputs": [
        {
          "output_type": "execute_result",
          "data": {
            "text/plain": [
              "[2/5]"
            ]
          },
          "metadata": {
            "tags": []
          },
          "execution_count": 12
        }
      ]
    },
    {
      "cell_type": "code",
      "metadata": {
        "colab": {
          "base_uri": "https://localhost:8080/",
          "height": 37
        },
        "id": "sefuP9bIZYBx",
        "outputId": "288a4ddf-0c53-4900-99dd-2b6a85f25132"
      },
      "source": [
        "sympy.limit(y, x, 2/5, '+')"
      ],
      "execution_count": null,
      "outputs": [
        {
          "output_type": "execute_result",
          "data": {
            "text/latex": "$\\displaystyle -\\infty$",
            "text/plain": [
              "-oo"
            ]
          },
          "metadata": {
            "tags": []
          },
          "execution_count": 14
        }
      ]
    },
    {
      "cell_type": "code",
      "metadata": {
        "colab": {
          "base_uri": "https://localhost:8080/",
          "height": 297
        },
        "id": "s5icmCh_G4Dp",
        "outputId": "ccc14440-234c-433e-88be-4ac0a2d576ed"
      },
      "source": [
        "#plotar o gráfico\n",
        "p = sympy.plot(y,(x,-5,5),show = False)\n",
        "p.show()\n",
        "#ficou ruim de visualizar "
      ],
      "execution_count": null,
      "outputs": [
        {
          "output_type": "display_data",
          "data": {
            "image/png": "[encoded data removed]",
            "text/plain": [
              "<Figure size 432x288 with 1 Axes>"
            ]
          },
          "metadata": {
            "tags": [],
            "needs_background": "light"
          }
        }
      ]
    },
    {
      "cell_type": "code",
      "metadata": {
        "colab": {
          "base_uri": "https://localhost:8080/"
        },
        "id": "58VhkDgAJ1gc",
        "outputId": "1b468fed-9864-42f3-9daf-10f75a26fa16"
      },
      "source": [
        "#Assíntota vertical\n",
        "print(a/b)\n",
        "r= a/b"
      ],
      "execution_count": null,
      "outputs": [
        {
          "output_type": "stream",
          "text": [
            "1.5\n"
          ],
          "name": "stdout"
        }
      ]
    },
    {
      "cell_type": "code",
      "metadata": {
        "colab": {
          "base_uri": "https://localhost:8080/",
          "height": 297
        },
        "id": "soW4ujDUI3MV",
        "outputId": "c510b7bd-34de-4d63-84e9-d3a29b786e4b"
      },
      "source": [
        "#quebrando o plot em dois pedaços o gráfico fica melhor\n",
        "p1 = sympy.plot(y,(x,r+0.01 ,r+1),show = False)\n",
        "p2 = sympy.plot(y,(x,r-0.01,r-1), show = False)\n",
        "\n",
        "p1.append(p2[0])\n",
        "p1.show()"
      ],
      "execution_count": null,
      "outputs": [
        {
          "output_type": "display_data",
          "data": {
            "image/png": "[encoded data removed]",
            "text/plain": [
              "<Figure size 432x288 with 1 Axes>"
            ]
          },
          "metadata": {
            "tags": [],
            "needs_background": "light"
          }
        }
      ]
    },
    {
      "cell_type": "code",
      "metadata": {
        "colab": {
          "base_uri": "https://localhost:8080/"
        },
        "id": "GzJmY8YLJDYF",
        "outputId": "b8471b95-bee5-4c5e-fedc-8bceb87b0f53"
      },
      "source": [
        "from sympy import limit\n",
        "sympy.limit(y, x, r, '-'), sympy.limit(y,x, r, '+'), sympy.limit(y,x, 'oo'), sympy.limit(y,x, '-oo')"
      ],
      "execution_count": null,
      "outputs": [
        {
          "output_type": "execute_result",
          "data": {
            "text/plain": [
              "(oo, -oo, -5/2, -5/2)"
            ]
          },
          "metadata": {
            "tags": []
          },
          "execution_count": 8
        }
      ]
    },
    {
      "cell_type": "markdown",
      "metadata": {
        "id": "atH0BFuSMi-j"
      },
      "source": [
        "Questão 4:"
      ]
    },
    {
      "cell_type": "code",
      "metadata": {
        "id": "PMDjljE3Ll1Y",
        "colab": {
          "base_uri": "https://localhost:8080/",
          "height": 297
        },
        "outputId": "e6c19c3c-4a62-4119-ae0a-922492307bb0"
      },
      "source": [
        "#função feita com os número da matrícula\n",
        "y2 = a*x**3-b*x**2\n",
        "\n",
        "p22 = sympy.plot(y2,(x,-5,5),show = False)\n",
        "p22.show()"
      ],
      "execution_count": null,
      "outputs": [
        {
          "output_type": "display_data",
          "data": {
            "image/png": "[encoded data removed]",
            "text/plain": [
              "<Figure size 432x288 with 1 Axes>"
            ]
          },
          "metadata": {
            "tags": [],
            "needs_background": "light"
          }
        }
      ]
    },
    {
      "cell_type": "code",
      "metadata": {
        "id": "qMuR6iPqNCpG"
      },
      "source": [
        "#função no ponto\n",
        "p0 = y2.subs(x,c)"
      ],
      "execution_count": null,
      "outputs": []
    },
    {
      "cell_type": "code",
      "metadata": {
        "id": "bJptRcB1NNlF"
      },
      "source": [
        "from sympy import diff\n",
        "m=diff(y2,x)"
      ],
      "execution_count": null,
      "outputs": []
    },
    {
      "cell_type": "code",
      "metadata": {
        "id": "EjEOpgxQOnJv"
      },
      "source": [
        "#derivada no ponto\n",
        "m0=m.subs(x,c)"
      ],
      "execution_count": null,
      "outputs": []
    },
    {
      "cell_type": "markdown",
      "metadata": {
        "id": "8z1Im9AFRLGW"
      },
      "source": [
        "Equação da reta tangente"
      ]
    },
    {
      "cell_type": "code",
      "metadata": {
        "id": "zjjkJoRDP6LA"
      },
      "source": [
        "#equação da reta tangente\n",
        "yr=m0*(x-c)+p0"
      ],
      "execution_count": null,
      "outputs": []
    },
    {
      "cell_type": "code",
      "metadata": {
        "colab": {
          "base_uri": "https://localhost:8080/",
          "height": 297
        },
        "id": "TEGcMyDWQRXE",
        "outputId": "333fa807-f8df-4074-f434-e2f75b09b87e"
      },
      "source": [
        "p3 = sympy.plot(y2,(x,-5 ,10),show = False)\n",
        "p4 = sympy.plot(yr,(x,-4,10), show = False, line_color='red')\n",
        "\n",
        "p3.append(p4[0])\n",
        "p3.show()"
      ],
      "execution_count": null,
      "outputs": [
        {
          "output_type": "display_data",
          "data": {
            "image/png": "[encoded data removed]",
            "text/plain": [
              "<Figure size 432x288 with 1 Axes>"
            ]
          },
          "metadata": {
            "tags": [],
            "needs_background": "light"
          }
        }
      ]
    },
    {
      "cell_type": "code",
      "metadata": {
        "id": "2x_6dTjCQTM4"
      },
      "source": [
        ""
      ],
      "execution_count": null,
      "outputs": []
    }
  ]
}