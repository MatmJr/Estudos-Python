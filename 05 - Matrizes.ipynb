{
  "nbformat": 4,
  "nbformat_minor": 0,
  "metadata": {
    "colab": {
      "name": "Matrizes.ipynb",
      "provenance": []
    },
    "kernelspec": {
      "name": "python3",
      "display_name": "Python 3"
    },
    "language_info": {
      "name": "python"
    }
  },
  "cells": [
    {
      "cell_type": "markdown",
      "metadata": {
        "id": "5r3VcCRWJDIR"
      },
      "source": [
        "Python \n"
      ]
    },
    {
      "cell_type": "code",
      "metadata": {
        "id": "bnmadMoEJAri"
      },
      "source": [
        "import math\n",
        "import numpy as np"
      ],
      "execution_count": null,
      "outputs": []
    },
    {
      "cell_type": "code",
      "metadata": {
        "colab": {
          "base_uri": "https://localhost:8080/"
        },
        "id": "HbgIX0BIJbK5",
        "outputId": "ed4ffa2d-9c7a-4557-ffa1-43d5688b279e"
      },
      "source": [
        "A = np.array([[1,3,2],[5,1,3],[2,1,0]]) #matriz A\n",
        "A"
      ],
      "execution_count": null,
      "outputs": [
        {
          "output_type": "execute_result",
          "data": {
            "text/plain": [
              "array([[1, 3, 2],\n",
              "       [5, 1, 3],\n",
              "       [2, 1, 0]])"
            ]
          },
          "metadata": {
            "tags": []
          },
          "execution_count": 2
        }
      ]
    },
    {
      "cell_type": "code",
      "metadata": {
        "colab": {
          "base_uri": "https://localhost:8080/"
        },
        "id": "9YmCUDsqJgcA",
        "outputId": "29f1333b-d7cd-4064-c419-400b3117d8b0"
      },
      "source": [
        "B = np.array([[1,5,-1],[0,1,1],[3,2,1]]) #matriz B\n",
        "B"
      ],
      "execution_count": null,
      "outputs": [
        {
          "output_type": "execute_result",
          "data": {
            "text/plain": [
              "array([[ 1,  5, -1],\n",
              "       [ 0,  1,  1],\n",
              "       [ 3,  2,  1]])"
            ]
          },
          "metadata": {
            "tags": []
          },
          "execution_count": 3
        }
      ]
    },
    {
      "cell_type": "code",
      "metadata": {
        "colab": {
          "base_uri": "https://localhost:8080/"
        },
        "id": "3ByAJ08SKZ0d",
        "outputId": "c9d084ef-f7fb-477c-cb67-8414a3c1b42a"
      },
      "source": [
        "3*A-5*B\n"
      ],
      "execution_count": null,
      "outputs": [
        {
          "output_type": "execute_result",
          "data": {
            "text/plain": [
              "array([[ -2, -16,  11],\n",
              "       [ 15,  -2,   4],\n",
              "       [ -9,  -7,  -5]])"
            ]
          },
          "metadata": {
            "tags": []
          },
          "execution_count": 4
        }
      ]
    },
    {
      "cell_type": "code",
      "metadata": {
        "colab": {
          "base_uri": "https://localhost:8080/"
        },
        "id": "tdba7ux2KrEo",
        "outputId": "909052e2-f806-459a-9cc4-19103c8e33f6"
      },
      "source": [
        "A*B #não é a multiplicação que precisamos"
      ],
      "execution_count": null,
      "outputs": [
        {
          "output_type": "execute_result",
          "data": {
            "text/plain": [
              "array([[ 1, 15, -2],\n",
              "       [ 0,  1,  3],\n",
              "       [ 6,  2,  0]])"
            ]
          },
          "metadata": {
            "tags": []
          },
          "execution_count": 5
        }
      ]
    },
    {
      "cell_type": "code",
      "metadata": {
        "colab": {
          "base_uri": "https://localhost:8080/"
        },
        "id": "N0xqpdEuLLCb",
        "outputId": "f80187d0-8d51-4b5e-a314-2c261a0a87eb"
      },
      "source": [
        "A.dot(B) #multiplicação de matrizes A e B."
      ],
      "execution_count": null,
      "outputs": [
        {
          "output_type": "execute_result",
          "data": {
            "text/plain": [
              "array([[ 7, 12,  4],\n",
              "       [14, 32, -1],\n",
              "       [ 2, 11, -1]])"
            ]
          },
          "metadata": {
            "tags": []
          },
          "execution_count": 6
        }
      ]
    },
    {
      "cell_type": "code",
      "metadata": {
        "colab": {
          "base_uri": "https://localhost:8080/"
        },
        "id": "SgOPOW_XLtiE",
        "outputId": "4b6364d1-7f4c-4bb5-c9c9-0852521e79c6"
      },
      "source": [
        "B.dot(A) #multiplicação de matrizes B e A."
      ],
      "execution_count": null,
      "outputs": [
        {
          "output_type": "execute_result",
          "data": {
            "text/plain": [
              "array([[24,  7, 17],\n",
              "       [ 7,  2,  3],\n",
              "       [15, 12, 12]])"
            ]
          },
          "metadata": {
            "tags": []
          },
          "execution_count": 7
        }
      ]
    },
    {
      "cell_type": "code",
      "metadata": {
        "colab": {
          "base_uri": "https://localhost:8080/"
        },
        "id": "JJNUSu_oMYyz",
        "outputId": "86c73cc1-b554-40b6-f8dd-4062b91f7c64"
      },
      "source": [
        "print(A) #Matriz A\n",
        "print(A.T) #transposta da Matriz A"
      ],
      "execution_count": null,
      "outputs": [
        {
          "output_type": "stream",
          "text": [
            "[[1 3 2]\n",
            " [5 1 3]\n",
            " [2 1 0]]\n",
            "[[1 5 2]\n",
            " [3 1 1]\n",
            " [2 3 0]]\n"
          ],
          "name": "stdout"
        }
      ]
    },
    {
      "cell_type": "markdown",
      "metadata": {
        "id": "AC06t37-VkaD"
      },
      "source": [
        "Verificação da Propriedade do Livro\n",
        "\n",
        "(A.B).T = (B.T).(A.T)"
      ]
    },
    {
      "cell_type": "code",
      "metadata": {
        "colab": {
          "base_uri": "https://localhost:8080/"
        },
        "id": "0E2R7F_wNlAe",
        "outputId": "507b2694-d0db-49df-b65e-f62b508e0a54"
      },
      "source": [
        "(A.dot(B)).T\n"
      ],
      "execution_count": null,
      "outputs": [
        {
          "output_type": "execute_result",
          "data": {
            "text/plain": [
              "array([[ 7, 14,  2],\n",
              "       [12, 32, 11],\n",
              "       [ 4, -1, -1]])"
            ]
          },
          "metadata": {
            "tags": []
          },
          "execution_count": 9
        }
      ]
    },
    {
      "cell_type": "code",
      "metadata": {
        "colab": {
          "base_uri": "https://localhost:8080/"
        },
        "id": "JEQrWcaIO50m",
        "outputId": "c2c32837-f506-48ac-c420-2cad99ee663e"
      },
      "source": [
        "(B.T).dot(A.T)"
      ],
      "execution_count": null,
      "outputs": [
        {
          "output_type": "execute_result",
          "data": {
            "text/plain": [
              "array([[ 7, 14,  2],\n",
              "       [12, 32, 11],\n",
              "       [ 4, -1, -1]])"
            ]
          },
          "metadata": {
            "tags": []
          },
          "execution_count": 10
        }
      ]
    },
    {
      "cell_type": "markdown",
      "metadata": {
        "id": "uiHwO7pjP3f9"
      },
      "source": [
        "Matriz Inversa"
      ]
    },
    {
      "cell_type": "code",
      "metadata": {
        "colab": {
          "base_uri": "https://localhost:8080/"
        },
        "id": "V_s6XLbkPF9T",
        "outputId": "6a850c34-2cde-4df7-e83c-11910ae5169d"
      },
      "source": [
        "a = np.array([[1,0,2],[1,2,-1],[3,1,5]])\n",
        "a"
      ],
      "execution_count": null,
      "outputs": [
        {
          "output_type": "execute_result",
          "data": {
            "text/plain": [
              "array([[ 1,  0,  2],\n",
              "       [ 1,  2, -1],\n",
              "       [ 3,  1,  5]])"
            ]
          },
          "metadata": {
            "tags": []
          },
          "execution_count": 11
        }
      ]
    },
    {
      "cell_type": "code",
      "metadata": {
        "colab": {
          "base_uri": "https://localhost:8080/"
        },
        "id": "IO2mP86iQGZ0",
        "outputId": "ddf98df7-2a28-44d0-f9f4-6e1f3cfffc66"
      },
      "source": [
        "ai = np.linalg.inv(a)\n",
        "ai"
      ],
      "execution_count": null,
      "outputs": [
        {
          "output_type": "execute_result",
          "data": {
            "text/plain": [
              "array([[11.,  2., -4.],\n",
              "       [-8., -1.,  3.],\n",
              "       [-5., -1.,  2.]])"
            ]
          },
          "metadata": {
            "tags": []
          },
          "execution_count": 12
        }
      ]
    },
    {
      "cell_type": "code",
      "metadata": {
        "colab": {
          "base_uri": "https://localhost:8080/"
        },
        "id": "-nOcSF32QOW4",
        "outputId": "92d51069-31b0-4727-d43c-7ff6b3af81a5"
      },
      "source": [
        "mult = ai.dot(a)\n",
        "\n",
        "np.around(mult,5)"
      ],
      "execution_count": null,
      "outputs": [
        {
          "output_type": "execute_result",
          "data": {
            "text/plain": [
              "array([[ 1.,  0., -0.],\n",
              "       [-0.,  1.,  0.],\n",
              "       [-0.,  0.,  1.]])"
            ]
          },
          "metadata": {
            "tags": []
          },
          "execution_count": 13
        }
      ]
    },
    {
      "cell_type": "markdown",
      "metadata": {
        "id": "P8EQTRpGV7P2"
      },
      "source": [
        "Determinante"
      ]
    },
    {
      "cell_type": "code",
      "metadata": {
        "colab": {
          "base_uri": "https://localhost:8080/"
        },
        "id": "9S0BUQruQyl9",
        "outputId": "ca6a5a70-eeb9-453e-c07a-ecdb50007e90"
      },
      "source": [
        "d=np.linalg.det(a)\n",
        "d\n",
        "print(format(d, \"5f\"))"
      ],
      "execution_count": null,
      "outputs": [
        {
          "output_type": "stream",
          "text": [
            "1.000000\n"
          ],
          "name": "stdout"
        }
      ]
    },
    {
      "cell_type": "code",
      "metadata": {
        "id": "wrG-RwBkTw5V"
      },
      "source": [
        "A = np.array([[-1,-2,-4],[0,-7,11],[3,13,4]])\n",
        "B = np.array([[2],[-25],[16]])"
      ],
      "execution_count": null,
      "outputs": []
    },
    {
      "cell_type": "code",
      "metadata": {
        "colab": {
          "base_uri": "https://localhost:8080/"
        },
        "id": "Gw_SmEdIjONq",
        "outputId": "095d662d-dab1-4ac6-c0ab-5ad01e0bb979"
      },
      "source": [
        "np.linalg.inv(A).dot(B)"
      ],
      "execution_count": null,
      "outputs": [
        {
          "output_type": "execute_result",
          "data": {
            "text/plain": [
              "array([[-2.],\n",
              "       [ 2.],\n",
              "       [-1.]])"
            ]
          },
          "metadata": {
            "tags": []
          },
          "execution_count": 16
        }
      ]
    },
    {
      "cell_type": "code",
      "metadata": {
        "id": "a4RchQpfjUEL"
      },
      "source": [
        "A1 = np.array([[1,2,1],[1,-3,5],[2,-1,3]])\n",
        "B1 = np.array([[12],[1],[10]])"
      ],
      "execution_count": null,
      "outputs": []
    },
    {
      "cell_type": "code",
      "metadata": {
        "colab": {
          "base_uri": "https://localhost:8080/"
        },
        "id": "kkK4cKkXluf0",
        "outputId": "143c3a67-3e2a-4bf0-b35e-c97f4a59b7ac"
      },
      "source": [
        "np.linalg.det(A1)"
      ],
      "execution_count": null,
      "outputs": [
        {
          "output_type": "execute_result",
          "data": {
            "text/plain": [
              "15.000000000000007"
            ]
          },
          "metadata": {
            "tags": []
          },
          "execution_count": 18
        }
      ]
    },
    {
      "cell_type": "code",
      "metadata": {
        "colab": {
          "base_uri": "https://localhost:8080/"
        },
        "id": "S4aMV2nSleCq",
        "outputId": "5ec69cf8-f6ba-4d51-c60b-9901c71c6607"
      },
      "source": [
        "np.linalg.inv(A1).dot(B1)"
      ],
      "execution_count": null,
      "outputs": [
        {
          "output_type": "execute_result",
          "data": {
            "text/plain": [
              "array([[5.],\n",
              "       [3.],\n",
              "       [1.]])"
            ]
          },
          "metadata": {
            "tags": []
          },
          "execution_count": 19
        }
      ]
    },
    {
      "cell_type": "code",
      "metadata": {
        "id": "Ll2tMJk7lgV2"
      },
      "source": [
        "A2 = np.array([[-1,2,3],[3,1,1],[1,2,2]])\n",
        "B2 = np.array([[1],[3],[7]])"
      ],
      "execution_count": null,
      "outputs": []
    },
    {
      "cell_type": "code",
      "metadata": {
        "id": "yEk815PGwXt2"
      },
      "source": [
        "invA2 = np.linalg.inv(A2)"
      ],
      "execution_count": null,
      "outputs": []
    },
    {
      "cell_type": "code",
      "metadata": {
        "colab": {
          "base_uri": "https://localhost:8080/"
        },
        "id": "dEk-3XDjwj2t",
        "outputId": "bacf1b48-1ab0-4d88-c122-1a88d67dc6f5"
      },
      "source": [
        "invA2.dot(B2)"
      ],
      "execution_count": null,
      "outputs": [
        {
          "output_type": "execute_result",
          "data": {
            "text/plain": [
              "array([[-0.2],\n",
              "       [10. ],\n",
              "       [-6.4]])"
            ]
          },
          "metadata": {
            "tags": []
          },
          "execution_count": 22
        }
      ]
    },
    {
      "cell_type": "code",
      "metadata": {
        "id": "RclqJuSLwqV4"
      },
      "source": [
        "A3 = np.array([[3,2,-1],[1,3,1],[2,2,-2]])\n",
        "B3 = np.array([[0],[1],[2]])"
      ],
      "execution_count": null,
      "outputs": []
    },
    {
      "cell_type": "code",
      "metadata": {
        "colab": {
          "base_uri": "https://localhost:8080/"
        },
        "id": "-0LaXSIDeo0b",
        "outputId": "67393868-cbbf-43df-efb2-4c7aeb4101b4"
      },
      "source": [
        "s3 = np.linalg.inv(A3).dot(B3)\n",
        "#np.around(s3)\n",
        "s3"
      ],
      "execution_count": null,
      "outputs": [
        {
          "output_type": "execute_result",
          "data": {
            "text/plain": [
              "array([[-1.],\n",
              "       [ 1.],\n",
              "       [-1.]])"
            ]
          },
          "metadata": {
            "tags": []
          },
          "execution_count": 36
        }
      ]
    },
    {
      "cell_type": "code",
      "metadata": {
        "colab": {
          "base_uri": "https://localhost:8080/"
        },
        "id": "y8dMI8OgvBTc",
        "outputId": "6ed8c3de-b082-4ddc-882b-2cc22a5fb5f7"
      },
      "source": [
        "np.linalg.det(A3)+np.linalg.det(A3.dot(A3))"
      ],
      "execution_count": null,
      "outputs": [
        {
          "output_type": "execute_result",
          "data": {
            "text/plain": [
              "156.0"
            ]
          },
          "metadata": {
            "tags": []
          },
          "execution_count": 24
        }
      ]
    },
    {
      "cell_type": "code",
      "metadata": {
        "id": "aIDj5FG5vN-O",
        "colab": {
          "base_uri": "https://localhost:8080/"
        },
        "outputId": "b23eaec1-fd97-4e15-9be9-812c2cee7657"
      },
      "source": [
        "A3**2\n"
      ],
      "execution_count": null,
      "outputs": [
        {
          "output_type": "execute_result",
          "data": {
            "text/plain": [
              "array([[ 1,  4,  1],\n",
              "       [ 1,  1,  0],\n",
              "       [ 4,  4, 16]])"
            ]
          },
          "metadata": {
            "tags": []
          },
          "execution_count": 25
        }
      ]
    },
    {
      "cell_type": "code",
      "metadata": {
        "colab": {
          "base_uri": "https://localhost:8080/"
        },
        "id": "NNcNWt_q5u8p",
        "outputId": "7058d14a-96c6-442c-ecb8-2c7efb316860"
      },
      "source": [
        "A3.dot(A3)"
      ],
      "execution_count": null,
      "outputs": [
        {
          "output_type": "execute_result",
          "data": {
            "text/plain": [
              "array([[ 1, -2,  5],\n",
              "       [ 2, -1,  1],\n",
              "       [12,  6, 18]])"
            ]
          },
          "metadata": {
            "tags": []
          },
          "execution_count": 26
        }
      ]
    },
    {
      "cell_type": "code",
      "metadata": {
        "colab": {
          "base_uri": "https://localhost:8080/"
        },
        "id": "zhqDFEe_5x_l",
        "outputId": "7df26704-02f0-4254-8966-00f4be3f6645"
      },
      "source": [
        "np.linalg.det(A3)**2"
      ],
      "execution_count": null,
      "outputs": [
        {
          "output_type": "execute_result",
          "data": {
            "text/plain": [
              "144.0"
            ]
          },
          "metadata": {
            "tags": []
          },
          "execution_count": 27
        }
      ]
    },
    {
      "cell_type": "code",
      "metadata": {
        "id": "CHVWWV-W56Qp",
        "colab": {
          "base_uri": "https://localhost:8080/"
        },
        "outputId": "2c7b6baa-d99b-417d-b2cc-b0670ad67ac5"
      },
      "source": [
        "A4 = np.array([[1,2,-2],[2,-5,3],[3,4,7]])\n",
        "d4 = np.linalg.det(A4)\n",
        "print(format(d4, \"5f\"))"
      ],
      "execution_count": null,
      "outputs": [
        {
          "output_type": "stream",
          "text": [
            "-103.000000\n"
          ],
          "name": "stdout"
        }
      ]
    },
    {
      "cell_type": "code",
      "metadata": {
        "id": "LtYC5qwDiSm1"
      },
      "source": [
        ""
      ],
      "execution_count": null,
      "outputs": []
    }
  ]
}