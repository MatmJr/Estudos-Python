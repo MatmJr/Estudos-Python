{
 "cells": [
  {
   "cell_type": "markdown",
   "id": "23f1acb5",
   "metadata": {},
   "source": [
    "### Funções Lambda\n",
    "\n",
    "Um lambda é uma pequena função anônima que pode receber qualquer número de argumentos, mas pode ter apenas uma expressão (não instruções) e retorna um objeto de função que pode ser atribuído a qualquer variável.\n",
    "\n",
    "Sintaxe básica:\n",
    "\n",
    "```\n",
    "lambda arguments : expression\n",
    "```"
   ]
  },
  {
   "cell_type": "code",
   "execution_count": 1,
   "id": "fc0d6abc",
   "metadata": {},
   "outputs": [
    {
     "name": "stdout",
     "output_type": "stream",
     "text": [
      "25\n"
     ]
    }
   ],
   "source": [
    "sqr = lambda x: x**2\n",
    "print(sqr(5))"
   ]
  },
  {
   "cell_type": "markdown",
   "id": "7e5bfa46",
   "metadata": {},
   "source": [
    "### Map\n",
    "\n",
    "A função map() é uma função built-in do Python que permite aplicar uma determinada função a todos os elementos de uma sequência, coleção ou objeto iterável, e retorna um iterador que produz os resultados da função para cada elemento.\n",
    "\n",
    "Para usar a função map(), você precisa passar como argumentos um objeto de função e um ou mais objetos iteráveis que servirão como entrada para a função. A função deve ter um parâmetro para cada objeto iterável passado como argumento, e a cada chamada da função, os elementos correspondentes de cada objeto iterável serão passados como argumentos para a função.\n",
    "\n",
    "Por exemplo, vamos supor que você tem uma lista de números inteiros e quer calcular o quadrado de cada número. Vamos usar a lambda definida anteriormente, a função map() aplica a função square() a cada elemento da lista lista e retorna um iterador que produz os resultados para cada elemento. Para visualizar os resultados, podemos converter o iterador em uma lista usando a função list(), como segue: "
   ]
  },
  {
   "cell_type": "code",
   "execution_count": 3,
   "id": "ab5966fe",
   "metadata": {},
   "outputs": [
    {
     "data": {
      "text/plain": [
       "[1, 4, 9, 16, 25]"
      ]
     },
     "execution_count": 3,
     "metadata": {},
     "output_type": "execute_result"
    }
   ],
   "source": [
    "lista = [1,2,3,4,5]\n",
    "\n",
    "list(map(sqr, lista))"
   ]
  },
  {
   "cell_type": "markdown",
   "id": "3233aebd",
   "metadata": {},
   "source": [
    "### Filter\n",
    "\n",
    "A função filter() é uma função built-in do Python que permite filtrar elementos de uma sequência, coleção ou objeto iterável com base em uma determinada condição. Para usar a função filter(), você precisa passar como argumentos um objeto de função que define a condição de filtragem e um objeto iterável que servirá como entrada para a função. A função de filtragem deve retornar True ou False para cada elemento do iterável, e apenas os elementos para os quais a função retornar True serão mantidos na sequência resultante.\n",
    "\n",
    "Por exemplo, vamos supor que você tem uma lista de números inteiros e quer filtrar apenas os números pares. Você pode criar uma função que verifica se um número é par e aplicá-la a todos os elementos da lista usando a função filter(). "
   ]
  },
  {
   "cell_type": "code",
   "execution_count": 5,
   "id": "63a7baac",
   "metadata": {},
   "outputs": [
    {
     "data": {
      "text/plain": [
       "[2, 4]"
      ]
     },
     "execution_count": 5,
     "metadata": {},
     "output_type": "execute_result"
    }
   ],
   "source": [
    "ivn = lambda x: x % 2 == 0\n",
    "list(filter(ivn, lista))"
   ]
  },
  {
   "cell_type": "markdown",
   "id": "57a4e9a6",
   "metadata": {},
   "source": [
    "### Reduce\n",
    "\n",
    "A função reduce() é uma função built-in do Python que permite reduzir um iterável a um único valor aplicando repetidamente uma determinada função aos elementos do iterável. Para usar a função reduce(), você precisa passar como argumentos um objeto de função que define a operação a ser aplicada e um objeto iterável que servirá como entrada para a função. A função de redução deve ter dois parâmetros, que representam os elementos do iterável que serão combinados, e deve retornar o resultado da operação aplicada a esses elementos.\n",
    "\n",
    "Por exemplo, vamos supor que você tem uma lista de números inteiros e quer calcular a soma de todos eles. Você pode criar uma função que soma dois números e aplicá-la a todos os elementos da lista usando a função reduce()."
   ]
  },
  {
   "cell_type": "code",
   "execution_count": 6,
   "id": "2b9454b7",
   "metadata": {},
   "outputs": [
    {
     "data": {
      "text/plain": [
       "15"
      ]
     },
     "execution_count": 6,
     "metadata": {},
     "output_type": "execute_result"
    }
   ],
   "source": [
    "from functools import reduce\n",
    "\n",
    "soma = lambda x,y: x+y\n",
    "reduce(soma, lista)"
   ]
  },
  {
   "cell_type": "markdown",
   "id": "88fa45b8",
   "metadata": {},
   "source": [
    "fonte: https://goutomroy.medium.com/python-lambda-map-filter-reduce-261f29561fcc"
   ]
  }
 ],
 "metadata": {
  "kernelspec": {
   "display_name": "Python 3 (ipykernel)",
   "language": "python",
   "name": "python3"
  },
  "language_info": {
   "codemirror_mode": {
    "name": "ipython",
    "version": 3
   },
   "file_extension": ".py",
   "mimetype": "text/x-python",
   "name": "python",
   "nbconvert_exporter": "python",
   "pygments_lexer": "ipython3",
   "version": "3.10.8"
  }
 },
 "nbformat": 4,
 "nbformat_minor": 5
}
