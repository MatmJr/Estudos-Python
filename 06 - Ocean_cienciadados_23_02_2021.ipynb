{
  "nbformat": 4,
  "nbformat_minor": 0,
  "metadata": {
    "colab": {
      "name": "Ocean_cienciadados_23/02/2021.ipynb",
      "provenance": []
    },
    "kernelspec": {
      "name": "python3",
      "display_name": "Python 3"
    }
  },
  "cells": [
    {
      "cell_type": "code",
      "metadata": {
        "id": "Z7NLFdisvhHD"
      },
      "source": [
        "import pandas as pd"
      ],
      "execution_count": null,
      "outputs": []
    },
    {
      "cell_type": "code",
      "metadata": {
        "colab": {
          "base_uri": "https://localhost:8080/"
        },
        "id": "rvwqccs-xUP3",
        "outputId": "0f904b9e-438d-4a80-ce94-41ee20da658c"
      },
      "source": [
        "# Lista\n",
        "\n",
        "lista = [10, 20, 30, 40, 50]\n",
        "\n",
        "print(lista)\n",
        "print(type(lista))\n",
        "print(\"Primeiro elemento:\", lista[0])\n",
        "print(\"Primeiro elemento:\", type(lista[0]))\n",
        "\n",
        "# Series -> Lista\n",
        "\n",
        "series_numerica = pd.Series(lista)\n",
        "\n",
        "print(series_numerica)\n",
        "print(type(series_numerica))\n",
        "print(\"Primeiro elemento da series:\", series_numerica[0])\n",
        "print(\"Primeiro elemento:\", type(series_numerica[0]))"
      ],
      "execution_count": null,
      "outputs": [
        {
          "output_type": "stream",
          "text": [
            "[10, 20, 30, 40, 50]\n",
            "<class 'list'>\n",
            "Primeiro elemento: 10\n",
            "Primeiro elemento: <class 'int'>\n",
            "0    10\n",
            "1    20\n",
            "2    30\n",
            "3    40\n",
            "4    50\n",
            "dtype: int64\n",
            "<class 'pandas.core.series.Series'>\n",
            "Primeiro elemento da series: 10\n",
            "Primeiro elemento: <class 'numpy.int64'>\n"
          ],
          "name": "stdout"
        }
      ]
    },
    {
      "cell_type": "code",
      "metadata": {
        "colab": {
          "base_uri": "https://localhost:8080/"
        },
        "id": "VcAx5Boz2iY1",
        "outputId": "663432be-d924-480e-b87e-9564852853ac"
      },
      "source": [
        "# Criando uma Series com o mesmo valor várias vezes\n",
        "\n",
        "pd.Series(9.7, range(10))"
      ],
      "execution_count": null,
      "outputs": [
        {
          "output_type": "execute_result",
          "data": {
            "text/plain": [
              "0    9.7\n",
              "1    9.7\n",
              "2    9.7\n",
              "3    9.7\n",
              "4    9.7\n",
              "5    9.7\n",
              "6    9.7\n",
              "7    9.7\n",
              "8    9.7\n",
              "9    9.7\n",
              "dtype: float64"
            ]
          },
          "metadata": {
            "tags": []
          },
          "execution_count": 6
        }
      ]
    },
    {
      "cell_type": "code",
      "metadata": {
        "colab": {
          "base_uri": "https://localhost:8080/"
        },
        "id": "-R9595_m5wQR",
        "outputId": "cae2f613-3fec-4af7-f0c9-90a46ddf9713"
      },
      "source": [
        "# Quantos elementos temos na Series?\n",
        "\n",
        "# Na lista:\n",
        "print(\"Quantidade de elementos na Lista:\", len(lista))\n",
        "\n",
        "# Na Series:\n",
        "print(\"Quantidade de elementos na Series:\", series_numerica.count())"
      ],
      "execution_count": null,
      "outputs": [
        {
          "output_type": "stream",
          "text": [
            "Quantidade de elementos na Lista: 5\n",
            "Quantidade de elementos na Series: 5\n"
          ],
          "name": "stdout"
        }
      ]
    },
    {
      "cell_type": "code",
      "metadata": {
        "colab": {
          "base_uri": "https://localhost:8080/"
        },
        "id": "Cs3Rs6kw6FYx",
        "outputId": "59912d48-00c3-42eb-c054-479eb4f9e545"
      },
      "source": [
        "# A grande vantagem das series é a utilização com fórmulas matemáticas e cálculos estatísticos\n",
        "\n",
        "# Média\n",
        "print(\"Média\", series_numerica.mean())\n",
        "\n",
        "# Mínimo\n",
        "print(\"Mínimo\", series_numerica.min())\n",
        "\n",
        "# Máximo\n",
        "print(\"Máximo\", series_numerica.max())\n",
        "\n",
        "# Desvio Padrão\n",
        "print(\"Desvio Padrão\", series_numerica.std())\n",
        "\n",
        "print(\"\\nSeries Describe\\n\")\n",
        "series_numerica.describe()"
      ],
      "execution_count": null,
      "outputs": [
        {
          "output_type": "stream",
          "text": [
            "Média 30.0\n",
            "Mínimo 10\n",
            "Máximo 50\n",
            "Desvio Padrão 15.811388300841896\n",
            "\n",
            "Series Describe\n",
            "\n"
          ],
          "name": "stdout"
        },
        {
          "output_type": "execute_result",
          "data": {
            "text/plain": [
              "count     5.000000\n",
              "mean     30.000000\n",
              "std      15.811388\n",
              "min      10.000000\n",
              "25%      20.000000\n",
              "50%      30.000000\n",
              "75%      40.000000\n",
              "max      50.000000\n",
              "dtype: float64"
            ]
          },
          "metadata": {
            "tags": []
          },
          "execution_count": 8
        }
      ]
    },
    {
      "cell_type": "code",
      "metadata": {
        "colab": {
          "base_uri": "https://localhost:8080/"
        },
        "id": "U-KCNxrw6ILO",
        "outputId": "1611ec70-5584-4174-847b-fe718c01273f"
      },
      "source": [
        "lista = [10, 20, 30]\n",
        "lista_indices = ['1ª dezena', '2ª dezena', '3ª dezena']\n",
        "\n",
        "lista_indices_nomeados = pd.Series(lista, lista_indices)\n",
        "\n",
        "print(lista_indices_nomeados)\n",
        "\n",
        "print(lista_indices_nomeados['1ª dezena'])"
      ],
      "execution_count": null,
      "outputs": [
        {
          "output_type": "stream",
          "text": [
            "1ª dezena    10\n",
            "2ª dezena    20\n",
            "3ª dezena    30\n",
            "dtype: int64\n",
            "10\n"
          ],
          "name": "stdout"
        }
      ]
    },
    {
      "cell_type": "code",
      "metadata": {
        "colab": {
          "base_uri": "https://localhost:8080/"
        },
        "id": "HB0jHxMx6LG3",
        "outputId": "85c78614-690c-4be0-beb5-5cf411334bb0"
      },
      "source": [
        "# DataFrame\n",
        "\n",
        "# Representa uma matriz/dataset, que são tabelas (linhas e colunas)\n",
        "\n",
        "# Um DataFrame possui várias Series dentro\n",
        "\n",
        "# Criação de um Dicionário\n",
        "\n",
        "dicionario = {\n",
        "    'ESTADO': ['Amazonas', 'Amapá', 'Acre'],\n",
        "    'SIGLA': ['AM', 'AP', 'AC'],\n",
        "    'CAPITAL': ['Manaus', 'Macapá', 'Rio Branco']\n",
        "}\n",
        "\n",
        "print(dicionario)\n",
        "print(type(dicionario))\n",
        "\n",
        "dt = pd.DataFrame(dicionario)\n",
        "\n",
        "print()\n",
        "\n",
        "print(type(dt))\n",
        "print(dt)"
      ],
      "execution_count": null,
      "outputs": [
        {
          "output_type": "stream",
          "text": [
            "{'ESTADO': ['Amazonas', 'Amapá', 'Acre'], 'SIGLA': ['AM', 'AP', 'AC'], 'CAPITAL': ['Manaus', 'Macapá', 'Rio Branco']}\n",
            "<class 'dict'>\n",
            "\n",
            "<class 'pandas.core.frame.DataFrame'>\n",
            "     ESTADO SIGLA     CAPITAL\n",
            "0  Amazonas    AM      Manaus\n",
            "1     Amapá    AP      Macapá\n",
            "2      Acre    AC  Rio Branco\n"
          ],
          "name": "stdout"
        }
      ]
    },
    {
      "cell_type": "code",
      "metadata": {
        "colab": {
          "base_uri": "https://localhost:8080/",
          "height": 143
        },
        "id": "M-2VAuV-6P_C",
        "outputId": "877e5771-ec7b-4ca8-8c04-98f00d90221f"
      },
      "source": [
        "dt"
      ],
      "execution_count": null,
      "outputs": [
        {
          "output_type": "execute_result",
          "data": {
            "text/html": [
              "<div>\n",
              "<style scoped>\n",
              "    .dataframe tbody tr th:only-of-type {\n",
              "        vertical-align: middle;\n",
              "    }\n",
              "\n",
              "    .dataframe tbody tr th {\n",
              "        vertical-align: top;\n",
              "    }\n",
              "\n",
              "    .dataframe thead th {\n",
              "        text-align: right;\n",
              "    }\n",
              "</style>\n",
              "<table border=\"1\" class=\"dataframe\">\n",
              "  <thead>\n",
              "    <tr style=\"text-align: right;\">\n",
              "      <th></th>\n",
              "      <th>ESTADO</th>\n",
              "      <th>SIGLA</th>\n",
              "      <th>CAPITAL</th>\n",
              "    </tr>\n",
              "  </thead>\n",
              "  <tbody>\n",
              "    <tr>\n",
              "      <th>0</th>\n",
              "      <td>Amazonas</td>\n",
              "      <td>AM</td>\n",
              "      <td>Manaus</td>\n",
              "    </tr>\n",
              "    <tr>\n",
              "      <th>1</th>\n",
              "      <td>Amapá</td>\n",
              "      <td>AP</td>\n",
              "      <td>Macapá</td>\n",
              "    </tr>\n",
              "    <tr>\n",
              "      <th>2</th>\n",
              "      <td>Acre</td>\n",
              "      <td>AC</td>\n",
              "      <td>Rio Branco</td>\n",
              "    </tr>\n",
              "  </tbody>\n",
              "</table>\n",
              "</div>"
            ],
            "text/plain": [
              "     ESTADO SIGLA     CAPITAL\n",
              "0  Amazonas    AM      Manaus\n",
              "1     Amapá    AP      Macapá\n",
              "2      Acre    AC  Rio Branco"
            ]
          },
          "metadata": {
            "tags": []
          },
          "execution_count": 11
        }
      ]
    },
    {
      "cell_type": "code",
      "metadata": {
        "colab": {
          "base_uri": "https://localhost:8080/"
        },
        "id": "VXmGEnW16S3Q",
        "outputId": "db472603-1cd6-4ea2-9c1f-124b2013978a"
      },
      "source": [
        "print(dicionario['ESTADO'])\n",
        "print(type(dicionario['ESTADO']))"
      ],
      "execution_count": null,
      "outputs": [
        {
          "output_type": "stream",
          "text": [
            "['Amazonas', 'Amapá', 'Acre']\n",
            "<class 'list'>\n"
          ],
          "name": "stdout"
        }
      ]
    },
    {
      "cell_type": "code",
      "metadata": {
        "colab": {
          "base_uri": "https://localhost:8080/"
        },
        "id": "6F5Iy11C6Ygr",
        "outputId": "af480510-1343-4c39-9ef5-e28e43934b1c"
      },
      "source": [
        "print(dt['ESTADO'])\n",
        "print(type(dt['ESTADO']))"
      ],
      "execution_count": null,
      "outputs": [
        {
          "output_type": "stream",
          "text": [
            "0    Amazonas\n",
            "1       Amapá\n",
            "2        Acre\n",
            "Name: ESTADO, dtype: object\n",
            "<class 'pandas.core.series.Series'>\n"
          ],
          "name": "stdout"
        }
      ]
    },
    {
      "cell_type": "code",
      "metadata": {
        "colab": {
          "base_uri": "https://localhost:8080/"
        },
        "id": "UFjYTgh46ax_",
        "outputId": "c5d5b471-093e-45a4-d1f1-84f8cd300542"
      },
      "source": [
        "print(dt['ESTADO'].describe())"
      ],
      "execution_count": null,
      "outputs": [
        {
          "output_type": "stream",
          "text": [
            "count            3\n",
            "unique           3\n",
            "top       Amazonas\n",
            "freq             1\n",
            "Name: ESTADO, dtype: object\n"
          ],
          "name": "stdout"
        }
      ]
    },
    {
      "cell_type": "code",
      "metadata": {
        "colab": {
          "base_uri": "https://localhost:8080/"
        },
        "id": "hLv10ITF6eGA",
        "outputId": "0fc0b549-38ee-4b5b-b380-a9151b231e25"
      },
      "source": [
        "dt.ESTADO"
      ],
      "execution_count": null,
      "outputs": [
        {
          "output_type": "execute_result",
          "data": {
            "text/plain": [
              "0    Amazonas\n",
              "1       Amapá\n",
              "2        Acre\n",
              "Name: ESTADO, dtype: object"
            ]
          },
          "metadata": {
            "tags": []
          },
          "execution_count": 15
        }
      ]
    },
    {
      "cell_type": "code",
      "metadata": {
        "id": "XZmAV30o6gJQ"
      },
      "source": [
        "#Trabalhando com CSV\n",
        "\n",
        "dt = pd.read_csv('https://raw.githubusercontent.com/paulosalvatore/Ocean_CienciaDados_23_02_2021/main/dados-curso.csv')"
      ],
      "execution_count": null,
      "outputs": []
    },
    {
      "cell_type": "code",
      "metadata": {
        "colab": {
          "base_uri": "https://localhost:8080/",
          "height": 424
        },
        "id": "jcZ90g497L5k",
        "outputId": "9ca1be9b-bddd-47f4-cb2d-18da70e3da50"
      },
      "source": [
        "dt"
      ],
      "execution_count": null,
      "outputs": [
        {
          "output_type": "execute_result",
          "data": {
            "text/html": [
              "<div>\n",
              "<style scoped>\n",
              "    .dataframe tbody tr th:only-of-type {\n",
              "        vertical-align: middle;\n",
              "    }\n",
              "\n",
              "    .dataframe tbody tr th {\n",
              "        vertical-align: top;\n",
              "    }\n",
              "\n",
              "    .dataframe thead th {\n",
              "        text-align: right;\n",
              "    }\n",
              "</style>\n",
              "<table border=\"1\" class=\"dataframe\">\n",
              "  <thead>\n",
              "    <tr style=\"text-align: right;\">\n",
              "      <th></th>\n",
              "      <th>data</th>\n",
              "      <th>texto</th>\n",
              "      <th>retweet</th>\n",
              "      <th>idioma</th>\n",
              "      <th>lugar</th>\n",
              "      <th>pais</th>\n",
              "      <th>sigla</th>\n",
              "      <th>latitude</th>\n",
              "      <th>longitude</th>\n",
              "    </tr>\n",
              "  </thead>\n",
              "  <tbody>\n",
              "    <tr>\n",
              "      <th>0</th>\n",
              "      <td>2020-05-23 00:21:14</td>\n",
              "      <td>Para voltar tudo ao normal, você precisa fazer...</td>\n",
              "      <td>0</td>\n",
              "      <td>pt</td>\n",
              "      <td>Rio das Ostras</td>\n",
              "      <td>Brazil</td>\n",
              "      <td>BR</td>\n",
              "      <td>-41.937900</td>\n",
              "      <td>-22.522600</td>\n",
              "    </tr>\n",
              "    <tr>\n",
              "      <th>1</th>\n",
              "      <td>2020-03-22 22:57:51</td>\n",
              "      <td>14.245 – O que é a hidroxicloroquina? https://...</td>\n",
              "      <td>0</td>\n",
              "      <td>pt</td>\n",
              "      <td>Sao Paulo</td>\n",
              "      <td>Brazil</td>\n",
              "      <td>BR</td>\n",
              "      <td>-46.674739</td>\n",
              "      <td>-23.606067</td>\n",
              "    </tr>\n",
              "    <tr>\n",
              "      <th>2</th>\n",
              "      <td>2020-04-14 00:11:33</td>\n",
              "      <td>Quarta morte em Lar de Estarreja associada à C...</td>\n",
              "      <td>1</td>\n",
              "      <td>pt</td>\n",
              "      <td>Lisbon</td>\n",
              "      <td>Portugal</td>\n",
              "      <td>PT</td>\n",
              "      <td>-9.099043</td>\n",
              "      <td>38.747518</td>\n",
              "    </tr>\n",
              "    <tr>\n",
              "      <th>3</th>\n",
              "      <td>2020-05-25 20:45:43</td>\n",
              "      <td>COVID-19 |  Hospital municipal Tide Setúbal, n...</td>\n",
              "      <td>0</td>\n",
              "      <td>pt</td>\n",
              "      <td>Sao Paulo</td>\n",
              "      <td>Brazil</td>\n",
              "      <td>BR</td>\n",
              "      <td>-46.633300</td>\n",
              "      <td>-23.550000</td>\n",
              "    </tr>\n",
              "    <tr>\n",
              "      <th>4</th>\n",
              "      <td>2020-04-15 10:34:39</td>\n",
              "      <td>#cenasdocotidiano #santos #distanciamentosocia...</td>\n",
              "      <td>0</td>\n",
              "      <td>pt</td>\n",
              "      <td>Santos</td>\n",
              "      <td>Brazil</td>\n",
              "      <td>BR</td>\n",
              "      <td>-46.293700</td>\n",
              "      <td>-23.975947</td>\n",
              "    </tr>\n",
              "    <tr>\n",
              "      <th>...</th>\n",
              "      <td>...</td>\n",
              "      <td>...</td>\n",
              "      <td>...</td>\n",
              "      <td>...</td>\n",
              "      <td>...</td>\n",
              "      <td>...</td>\n",
              "      <td>...</td>\n",
              "      <td>...</td>\n",
              "      <td>...</td>\n",
              "    </tr>\n",
              "    <tr>\n",
              "      <th>495</th>\n",
              "      <td>2020-04-07 16:14:13</td>\n",
              "      <td>O isolamento social também serve para mostrar ...</td>\n",
              "      <td>1</td>\n",
              "      <td>pt</td>\n",
              "      <td>Rio Branco</td>\n",
              "      <td>Brazil</td>\n",
              "      <td>BR</td>\n",
              "      <td>-67.859657</td>\n",
              "      <td>-9.932246</td>\n",
              "    </tr>\n",
              "    <tr>\n",
              "      <th>496</th>\n",
              "      <td>2020-03-26 18:02:28</td>\n",
              "      <td>Enquanto o mundo está atento ao covid 19 é o B...</td>\n",
              "      <td>0</td>\n",
              "      <td>pt</td>\n",
              "      <td>Rio de Janeiro</td>\n",
              "      <td>Brazil</td>\n",
              "      <td>BR</td>\n",
              "      <td>-43.358100</td>\n",
              "      <td>-22.942800</td>\n",
              "    </tr>\n",
              "    <tr>\n",
              "      <th>497</th>\n",
              "      <td>2020-03-18 05:28:16</td>\n",
              "      <td>#covid_19 #stayhome @ Toronto, Ontario https:/...</td>\n",
              "      <td>0</td>\n",
              "      <td>pt</td>\n",
              "      <td>Toronto</td>\n",
              "      <td>Canada</td>\n",
              "      <td>CA</td>\n",
              "      <td>-79.387200</td>\n",
              "      <td>43.648000</td>\n",
              "    </tr>\n",
              "    <tr>\n",
              "      <th>498</th>\n",
              "      <td>2020-03-03 21:27:11</td>\n",
              "      <td>Um vira-lata sem Coronavirus #joeviralata #dog...</td>\n",
              "      <td>0</td>\n",
              "      <td>pt</td>\n",
              "      <td>Sao Paulo</td>\n",
              "      <td>Brazil</td>\n",
              "      <td>BR</td>\n",
              "      <td>-46.633300</td>\n",
              "      <td>-23.550000</td>\n",
              "    </tr>\n",
              "    <tr>\n",
              "      <th>499</th>\n",
              "      <td>2020-01-21 13:18:03</td>\n",
              "      <td>Portugal já está a preparar-se para responder ...</td>\n",
              "      <td>1</td>\n",
              "      <td>pt</td>\n",
              "      <td>Lisbon</td>\n",
              "      <td>Portugal</td>\n",
              "      <td>PT</td>\n",
              "      <td>-9.099043</td>\n",
              "      <td>38.747518</td>\n",
              "    </tr>\n",
              "  </tbody>\n",
              "</table>\n",
              "<p>500 rows × 9 columns</p>\n",
              "</div>"
            ],
            "text/plain": [
              "                    data  ...  longitude\n",
              "0    2020-05-23 00:21:14  ... -22.522600\n",
              "1    2020-03-22 22:57:51  ... -23.606067\n",
              "2    2020-04-14 00:11:33  ...  38.747518\n",
              "3    2020-05-25 20:45:43  ... -23.550000\n",
              "4    2020-04-15 10:34:39  ... -23.975947\n",
              "..                   ...  ...        ...\n",
              "495  2020-04-07 16:14:13  ...  -9.932246\n",
              "496  2020-03-26 18:02:28  ... -22.942800\n",
              "497  2020-03-18 05:28:16  ...  43.648000\n",
              "498  2020-03-03 21:27:11  ... -23.550000\n",
              "499  2020-01-21 13:18:03  ...  38.747518\n",
              "\n",
              "[500 rows x 9 columns]"
            ]
          },
          "metadata": {
            "tags": []
          },
          "execution_count": 17
        }
      ]
    },
    {
      "cell_type": "code",
      "metadata": {
        "colab": {
          "base_uri": "https://localhost:8080/"
        },
        "id": "ygsaJ1Bo7N30",
        "outputId": "98514ef7-e7af-4625-c9f2-f6c422d43e4a"
      },
      "source": [
        "print(dt.shape)\n",
        "print(type(dt.shape))"
      ],
      "execution_count": null,
      "outputs": [
        {
          "output_type": "stream",
          "text": [
            "(500, 9)\n",
            "<class 'tuple'>\n"
          ],
          "name": "stdout"
        }
      ]
    },
    {
      "cell_type": "code",
      "metadata": {
        "colab": {
          "base_uri": "https://localhost:8080/"
        },
        "id": "2O8TR_Pj7Zu6",
        "outputId": "706c12f1-2617-4e45-c00c-33ba2601a841"
      },
      "source": [
        "dt.lugar"
      ],
      "execution_count": null,
      "outputs": [
        {
          "output_type": "execute_result",
          "data": {
            "text/plain": [
              "0      Rio das Ostras\n",
              "1           Sao Paulo\n",
              "2              Lisbon\n",
              "3           Sao Paulo\n",
              "4              Santos\n",
              "            ...      \n",
              "495        Rio Branco\n",
              "496    Rio de Janeiro\n",
              "497           Toronto\n",
              "498         Sao Paulo\n",
              "499            Lisbon\n",
              "Name: lugar, Length: 500, dtype: object"
            ]
          },
          "metadata": {
            "tags": []
          },
          "execution_count": 20
        }
      ]
    },
    {
      "cell_type": "code",
      "metadata": {
        "colab": {
          "base_uri": "https://localhost:8080/"
        },
        "id": "wRK0bOnY81en",
        "outputId": "ef84f191-8965-4d1f-b086-249715e86213"
      },
      "source": [
        "dt.lugar.describe()"
      ],
      "execution_count": null,
      "outputs": [
        {
          "output_type": "execute_result",
          "data": {
            "text/plain": [
              "count        500\n",
              "unique       202\n",
              "top       Lisbon\n",
              "freq          61\n",
              "Name: lugar, dtype: object"
            ]
          },
          "metadata": {
            "tags": []
          },
          "execution_count": 21
        }
      ]
    },
    {
      "cell_type": "code",
      "metadata": {
        "colab": {
          "base_uri": "https://localhost:8080/",
          "height": 36
        },
        "id": "p-YuF28588dK",
        "outputId": "f01d55ae-1296-4fec-b513-ddf6284d90e4"
      },
      "source": [
        "dt.lugar[4]"
      ],
      "execution_count": null,
      "outputs": [
        {
          "output_type": "execute_result",
          "data": {
            "application/vnd.google.colaboratory.intrinsic+json": {
              "type": "string"
            },
            "text/plain": [
              "'Santos'"
            ]
          },
          "metadata": {
            "tags": []
          },
          "execution_count": 24
        }
      ]
    },
    {
      "cell_type": "code",
      "metadata": {
        "colab": {
          "base_uri": "https://localhost:8080/"
        },
        "id": "iaNjbo2j9Do2",
        "outputId": "f66e8e05-e556-4151-b8d2-0bb783b6ac87"
      },
      "source": [
        "#ILOC\n",
        "print(dt.iloc[0])"
      ],
      "execution_count": null,
      "outputs": [
        {
          "output_type": "stream",
          "text": [
            "data                                       2020-05-23 00:21:14\n",
            "texto        Para voltar tudo ao normal, você precisa fazer...\n",
            "retweet                                                      0\n",
            "idioma                                                      pt\n",
            "lugar                                           Rio das Ostras\n",
            "pais                                                    Brazil\n",
            "sigla                                                       BR\n",
            "latitude                                              -41.9379\n",
            "longitude                                             -22.5226\n",
            "Name: 0, dtype: object\n"
          ],
          "name": "stdout"
        }
      ]
    },
    {
      "cell_type": "code",
      "metadata": {
        "colab": {
          "base_uri": "https://localhost:8080/",
          "height": 206
        },
        "id": "GJJ3FWzu9lKi",
        "outputId": "0da36dba-dff6-4a5e-e25a-b3b3159e61ae"
      },
      "source": [
        "#Filtrando pelo valor\n",
        "\n",
        "dt[dt.lugar == 'Santos'] "
      ],
      "execution_count": null,
      "outputs": [
        {
          "output_type": "execute_result",
          "data": {
            "text/html": [
              "<div>\n",
              "<style scoped>\n",
              "    .dataframe tbody tr th:only-of-type {\n",
              "        vertical-align: middle;\n",
              "    }\n",
              "\n",
              "    .dataframe tbody tr th {\n",
              "        vertical-align: top;\n",
              "    }\n",
              "\n",
              "    .dataframe thead th {\n",
              "        text-align: right;\n",
              "    }\n",
              "</style>\n",
              "<table border=\"1\" class=\"dataframe\">\n",
              "  <thead>\n",
              "    <tr style=\"text-align: right;\">\n",
              "      <th></th>\n",
              "      <th>data</th>\n",
              "      <th>texto</th>\n",
              "      <th>retweet</th>\n",
              "      <th>idioma</th>\n",
              "      <th>lugar</th>\n",
              "      <th>pais</th>\n",
              "      <th>sigla</th>\n",
              "      <th>latitude</th>\n",
              "      <th>longitude</th>\n",
              "    </tr>\n",
              "  </thead>\n",
              "  <tbody>\n",
              "    <tr>\n",
              "      <th>4</th>\n",
              "      <td>2020-04-15 10:34:39</td>\n",
              "      <td>#cenasdocotidiano #santos #distanciamentosocia...</td>\n",
              "      <td>0</td>\n",
              "      <td>pt</td>\n",
              "      <td>Santos</td>\n",
              "      <td>Brazil</td>\n",
              "      <td>BR</td>\n",
              "      <td>-46.293700</td>\n",
              "      <td>-23.975947</td>\n",
              "    </tr>\n",
              "    <tr>\n",
              "      <th>198</th>\n",
              "      <td>2020-03-21 23:31:34</td>\n",
              "      <td>DIA 24/3, 21:00 horas LIVE no perfil da Dra Ra...</td>\n",
              "      <td>0</td>\n",
              "      <td>pt</td>\n",
              "      <td>Santos</td>\n",
              "      <td>Brazil</td>\n",
              "      <td>BR</td>\n",
              "      <td>-46.325000</td>\n",
              "      <td>-23.935400</td>\n",
              "    </tr>\n",
              "    <tr>\n",
              "      <th>227</th>\n",
              "      <td>2020-04-04 21:21:39</td>\n",
              "      <td>Em tempos de Coronavirus no Brasil o povo está...</td>\n",
              "      <td>0</td>\n",
              "      <td>pt</td>\n",
              "      <td>Santos</td>\n",
              "      <td>Brazil</td>\n",
              "      <td>BR</td>\n",
              "      <td>-46.320418</td>\n",
              "      <td>-23.975065</td>\n",
              "    </tr>\n",
              "    <tr>\n",
              "      <th>322</th>\n",
              "      <td>2020-04-05 12:59:56</td>\n",
              "      <td>Meu objetivo de quarentena e reviver meu cacto...</td>\n",
              "      <td>0</td>\n",
              "      <td>pt</td>\n",
              "      <td>Santos</td>\n",
              "      <td>Brazil</td>\n",
              "      <td>BR</td>\n",
              "      <td>-46.309422</td>\n",
              "      <td>-23.972999</td>\n",
              "    </tr>\n",
              "    <tr>\n",
              "      <th>437</th>\n",
              "      <td>2020-04-16 05:26:51</td>\n",
              "      <td>Pode colocar 10x mais em cima desses números, ...</td>\n",
              "      <td>0</td>\n",
              "      <td>pt</td>\n",
              "      <td>Santos</td>\n",
              "      <td>Brazil</td>\n",
              "      <td>BR</td>\n",
              "      <td>-46.324411</td>\n",
              "      <td>-23.933876</td>\n",
              "    </tr>\n",
              "  </tbody>\n",
              "</table>\n",
              "</div>"
            ],
            "text/plain": [
              "                    data  ...  longitude\n",
              "4    2020-04-15 10:34:39  ... -23.975947\n",
              "198  2020-03-21 23:31:34  ... -23.935400\n",
              "227  2020-04-04 21:21:39  ... -23.975065\n",
              "322  2020-04-05 12:59:56  ... -23.972999\n",
              "437  2020-04-16 05:26:51  ... -23.933876\n",
              "\n",
              "[5 rows x 9 columns]"
            ]
          },
          "metadata": {
            "tags": []
          },
          "execution_count": 35
        }
      ]
    },
    {
      "cell_type": "code",
      "metadata": {
        "colab": {
          "base_uri": "https://localhost:8080/",
          "height": 424
        },
        "id": "FnauGs69-DsN",
        "outputId": "707a6abb-cf01-4a34-82b2-da24e01bb9e6"
      },
      "source": [
        "dt.iloc[-100:]"
      ],
      "execution_count": null,
      "outputs": [
        {
          "output_type": "execute_result",
          "data": {
            "text/html": [
              "<div>\n",
              "<style scoped>\n",
              "    .dataframe tbody tr th:only-of-type {\n",
              "        vertical-align: middle;\n",
              "    }\n",
              "\n",
              "    .dataframe tbody tr th {\n",
              "        vertical-align: top;\n",
              "    }\n",
              "\n",
              "    .dataframe thead th {\n",
              "        text-align: right;\n",
              "    }\n",
              "</style>\n",
              "<table border=\"1\" class=\"dataframe\">\n",
              "  <thead>\n",
              "    <tr style=\"text-align: right;\">\n",
              "      <th></th>\n",
              "      <th>data</th>\n",
              "      <th>texto</th>\n",
              "      <th>retweet</th>\n",
              "      <th>idioma</th>\n",
              "      <th>lugar</th>\n",
              "      <th>pais</th>\n",
              "      <th>sigla</th>\n",
              "      <th>latitude</th>\n",
              "      <th>longitude</th>\n",
              "    </tr>\n",
              "  </thead>\n",
              "  <tbody>\n",
              "    <tr>\n",
              "      <th>400</th>\n",
              "      <td>2020-05-15 22:43:07</td>\n",
              "      <td>O distanciamento social, medida necessária e r...</td>\n",
              "      <td>0</td>\n",
              "      <td>pt</td>\n",
              "      <td>Goiânia</td>\n",
              "      <td>Brazil</td>\n",
              "      <td>BR</td>\n",
              "      <td>-49.274331</td>\n",
              "      <td>-16.686405</td>\n",
              "    </tr>\n",
              "    <tr>\n",
              "      <th>401</th>\n",
              "      <td>2020-03-12 15:28:51</td>\n",
              "      <td>#TBT para um dia de outono em Paris, em uma ép...</td>\n",
              "      <td>0</td>\n",
              "      <td>pt</td>\n",
              "      <td>Paris</td>\n",
              "      <td>France</td>\n",
              "      <td>FR</td>\n",
              "      <td>2.349200</td>\n",
              "      <td>48.857300</td>\n",
              "    </tr>\n",
              "    <tr>\n",
              "      <th>402</th>\n",
              "      <td>2020-04-15 21:00:00</td>\n",
              "      <td>Acredito que essa está sendo a realidade de mu...</td>\n",
              "      <td>0</td>\n",
              "      <td>pt</td>\n",
              "      <td>Salvador</td>\n",
              "      <td>Brazil</td>\n",
              "      <td>BR</td>\n",
              "      <td>-38.476700</td>\n",
              "      <td>-12.974700</td>\n",
              "    </tr>\n",
              "    <tr>\n",
              "      <th>403</th>\n",
              "      <td>2020-05-21 19:19:33</td>\n",
              "      <td>Hoje no programa Sucupirasat é dia de Alternat...</td>\n",
              "      <td>0</td>\n",
              "      <td>pt</td>\n",
              "      <td>Guaratinguetá</td>\n",
              "      <td>Brazil</td>\n",
              "      <td>BR</td>\n",
              "      <td>-45.195087</td>\n",
              "      <td>-22.825639</td>\n",
              "    </tr>\n",
              "    <tr>\n",
              "      <th>404</th>\n",
              "      <td>2020-03-19 20:02:36</td>\n",
              "      <td>#covid_19 #ficaemcasa em Hospital Estadual Roc...</td>\n",
              "      <td>1</td>\n",
              "      <td>pt</td>\n",
              "      <td>Rio de Janeiro</td>\n",
              "      <td>Brazil</td>\n",
              "      <td>BR</td>\n",
              "      <td>-43.562415</td>\n",
              "      <td>-22.908563</td>\n",
              "    </tr>\n",
              "    <tr>\n",
              "      <th>...</th>\n",
              "      <td>...</td>\n",
              "      <td>...</td>\n",
              "      <td>...</td>\n",
              "      <td>...</td>\n",
              "      <td>...</td>\n",
              "      <td>...</td>\n",
              "      <td>...</td>\n",
              "      <td>...</td>\n",
              "      <td>...</td>\n",
              "    </tr>\n",
              "    <tr>\n",
              "      <th>495</th>\n",
              "      <td>2020-04-07 16:14:13</td>\n",
              "      <td>O isolamento social também serve para mostrar ...</td>\n",
              "      <td>1</td>\n",
              "      <td>pt</td>\n",
              "      <td>Rio Branco</td>\n",
              "      <td>Brazil</td>\n",
              "      <td>BR</td>\n",
              "      <td>-67.859657</td>\n",
              "      <td>-9.932246</td>\n",
              "    </tr>\n",
              "    <tr>\n",
              "      <th>496</th>\n",
              "      <td>2020-03-26 18:02:28</td>\n",
              "      <td>Enquanto o mundo está atento ao covid 19 é o B...</td>\n",
              "      <td>0</td>\n",
              "      <td>pt</td>\n",
              "      <td>Rio de Janeiro</td>\n",
              "      <td>Brazil</td>\n",
              "      <td>BR</td>\n",
              "      <td>-43.358100</td>\n",
              "      <td>-22.942800</td>\n",
              "    </tr>\n",
              "    <tr>\n",
              "      <th>497</th>\n",
              "      <td>2020-03-18 05:28:16</td>\n",
              "      <td>#covid_19 #stayhome @ Toronto, Ontario https:/...</td>\n",
              "      <td>0</td>\n",
              "      <td>pt</td>\n",
              "      <td>Toronto</td>\n",
              "      <td>Canada</td>\n",
              "      <td>CA</td>\n",
              "      <td>-79.387200</td>\n",
              "      <td>43.648000</td>\n",
              "    </tr>\n",
              "    <tr>\n",
              "      <th>498</th>\n",
              "      <td>2020-03-03 21:27:11</td>\n",
              "      <td>Um vira-lata sem Coronavirus #joeviralata #dog...</td>\n",
              "      <td>0</td>\n",
              "      <td>pt</td>\n",
              "      <td>Sao Paulo</td>\n",
              "      <td>Brazil</td>\n",
              "      <td>BR</td>\n",
              "      <td>-46.633300</td>\n",
              "      <td>-23.550000</td>\n",
              "    </tr>\n",
              "    <tr>\n",
              "      <th>499</th>\n",
              "      <td>2020-01-21 13:18:03</td>\n",
              "      <td>Portugal já está a preparar-se para responder ...</td>\n",
              "      <td>1</td>\n",
              "      <td>pt</td>\n",
              "      <td>Lisbon</td>\n",
              "      <td>Portugal</td>\n",
              "      <td>PT</td>\n",
              "      <td>-9.099043</td>\n",
              "      <td>38.747518</td>\n",
              "    </tr>\n",
              "  </tbody>\n",
              "</table>\n",
              "<p>100 rows × 9 columns</p>\n",
              "</div>"
            ],
            "text/plain": [
              "                    data  ...  longitude\n",
              "400  2020-05-15 22:43:07  ... -16.686405\n",
              "401  2020-03-12 15:28:51  ...  48.857300\n",
              "402  2020-04-15 21:00:00  ... -12.974700\n",
              "403  2020-05-21 19:19:33  ... -22.825639\n",
              "404  2020-03-19 20:02:36  ... -22.908563\n",
              "..                   ...  ...        ...\n",
              "495  2020-04-07 16:14:13  ...  -9.932246\n",
              "496  2020-03-26 18:02:28  ... -22.942800\n",
              "497  2020-03-18 05:28:16  ...  43.648000\n",
              "498  2020-03-03 21:27:11  ... -23.550000\n",
              "499  2020-01-21 13:18:03  ...  38.747518\n",
              "\n",
              "[100 rows x 9 columns]"
            ]
          },
          "metadata": {
            "tags": []
          },
          "execution_count": 40
        }
      ]
    },
    {
      "cell_type": "code",
      "metadata": {
        "colab": {
          "base_uri": "https://localhost:8080/"
        },
        "id": "zlTcIcRs_E17",
        "outputId": "22567ff9-536f-4997-d5a5-6f35ead709c6"
      },
      "source": [
        "quantidadelinhas=len(dt.lugar)\n",
        "quantidadelinhas"
      ],
      "execution_count": null,
      "outputs": [
        {
          "output_type": "execute_result",
          "data": {
            "text/plain": [
              "500"
            ]
          },
          "metadata": {
            "tags": []
          },
          "execution_count": 44
        }
      ]
    },
    {
      "cell_type": "code",
      "metadata": {
        "colab": {
          "base_uri": "https://localhost:8080/",
          "height": 424
        },
        "id": "38XOUxd_AVU2",
        "outputId": "fc393e5b-5843-4bd1-aff6-38e6ecf455b4"
      },
      "source": [
        "dados_filtrados = dt.loc[dt.sigla == 'BR']\n",
        "dados_filtrados"
      ],
      "execution_count": null,
      "outputs": [
        {
          "output_type": "execute_result",
          "data": {
            "text/html": [
              "<div>\n",
              "<style scoped>\n",
              "    .dataframe tbody tr th:only-of-type {\n",
              "        vertical-align: middle;\n",
              "    }\n",
              "\n",
              "    .dataframe tbody tr th {\n",
              "        vertical-align: top;\n",
              "    }\n",
              "\n",
              "    .dataframe thead th {\n",
              "        text-align: right;\n",
              "    }\n",
              "</style>\n",
              "<table border=\"1\" class=\"dataframe\">\n",
              "  <thead>\n",
              "    <tr style=\"text-align: right;\">\n",
              "      <th></th>\n",
              "      <th>data</th>\n",
              "      <th>texto</th>\n",
              "      <th>retweet</th>\n",
              "      <th>idioma</th>\n",
              "      <th>lugar</th>\n",
              "      <th>pais</th>\n",
              "      <th>sigla</th>\n",
              "      <th>latitude</th>\n",
              "      <th>longitude</th>\n",
              "    </tr>\n",
              "  </thead>\n",
              "  <tbody>\n",
              "    <tr>\n",
              "      <th>0</th>\n",
              "      <td>2020-05-23 00:21:14</td>\n",
              "      <td>Para voltar tudo ao normal, você precisa fazer...</td>\n",
              "      <td>0</td>\n",
              "      <td>pt</td>\n",
              "      <td>Rio das Ostras</td>\n",
              "      <td>Brazil</td>\n",
              "      <td>BR</td>\n",
              "      <td>-41.937900</td>\n",
              "      <td>-22.522600</td>\n",
              "    </tr>\n",
              "    <tr>\n",
              "      <th>1</th>\n",
              "      <td>2020-03-22 22:57:51</td>\n",
              "      <td>14.245 – O que é a hidroxicloroquina? https://...</td>\n",
              "      <td>0</td>\n",
              "      <td>pt</td>\n",
              "      <td>Sao Paulo</td>\n",
              "      <td>Brazil</td>\n",
              "      <td>BR</td>\n",
              "      <td>-46.674739</td>\n",
              "      <td>-23.606067</td>\n",
              "    </tr>\n",
              "    <tr>\n",
              "      <th>3</th>\n",
              "      <td>2020-05-25 20:45:43</td>\n",
              "      <td>COVID-19 |  Hospital municipal Tide Setúbal, n...</td>\n",
              "      <td>0</td>\n",
              "      <td>pt</td>\n",
              "      <td>Sao Paulo</td>\n",
              "      <td>Brazil</td>\n",
              "      <td>BR</td>\n",
              "      <td>-46.633300</td>\n",
              "      <td>-23.550000</td>\n",
              "    </tr>\n",
              "    <tr>\n",
              "      <th>4</th>\n",
              "      <td>2020-04-15 10:34:39</td>\n",
              "      <td>#cenasdocotidiano #santos #distanciamentosocia...</td>\n",
              "      <td>0</td>\n",
              "      <td>pt</td>\n",
              "      <td>Santos</td>\n",
              "      <td>Brazil</td>\n",
              "      <td>BR</td>\n",
              "      <td>-46.293700</td>\n",
              "      <td>-23.975947</td>\n",
              "    </tr>\n",
              "    <tr>\n",
              "      <th>7</th>\n",
              "      <td>2020-03-22 19:12:37</td>\n",
              "      <td>Memórias do cárcere. Hoje deu até pra treinar ...</td>\n",
              "      <td>0</td>\n",
              "      <td>pt</td>\n",
              "      <td>Rio de Janeiro</td>\n",
              "      <td>Brazil</td>\n",
              "      <td>BR</td>\n",
              "      <td>-43.273900</td>\n",
              "      <td>-22.961900</td>\n",
              "    </tr>\n",
              "    <tr>\n",
              "      <th>...</th>\n",
              "      <td>...</td>\n",
              "      <td>...</td>\n",
              "      <td>...</td>\n",
              "      <td>...</td>\n",
              "      <td>...</td>\n",
              "      <td>...</td>\n",
              "      <td>...</td>\n",
              "      <td>...</td>\n",
              "      <td>...</td>\n",
              "    </tr>\n",
              "    <tr>\n",
              "      <th>493</th>\n",
              "      <td>2020-04-08 23:40:59</td>\n",
              "      <td>A Lei 13.987/20 garante a distribuição dos ali...</td>\n",
              "      <td>0</td>\n",
              "      <td>pt</td>\n",
              "      <td>Medianeira</td>\n",
              "      <td>Brazil</td>\n",
              "      <td>BR</td>\n",
              "      <td>-54.104104</td>\n",
              "      <td>-25.297434</td>\n",
              "    </tr>\n",
              "    <tr>\n",
              "      <th>494</th>\n",
              "      <td>2020-04-14 12:06:38</td>\n",
              "      <td>A 2ª Vara de Família e Sucessões de Jacareí, e...</td>\n",
              "      <td>0</td>\n",
              "      <td>pt</td>\n",
              "      <td>Sao Paulo</td>\n",
              "      <td>Brazil</td>\n",
              "      <td>BR</td>\n",
              "      <td>-46.638670</td>\n",
              "      <td>-23.540780</td>\n",
              "    </tr>\n",
              "    <tr>\n",
              "      <th>495</th>\n",
              "      <td>2020-04-07 16:14:13</td>\n",
              "      <td>O isolamento social também serve para mostrar ...</td>\n",
              "      <td>1</td>\n",
              "      <td>pt</td>\n",
              "      <td>Rio Branco</td>\n",
              "      <td>Brazil</td>\n",
              "      <td>BR</td>\n",
              "      <td>-67.859657</td>\n",
              "      <td>-9.932246</td>\n",
              "    </tr>\n",
              "    <tr>\n",
              "      <th>496</th>\n",
              "      <td>2020-03-26 18:02:28</td>\n",
              "      <td>Enquanto o mundo está atento ao covid 19 é o B...</td>\n",
              "      <td>0</td>\n",
              "      <td>pt</td>\n",
              "      <td>Rio de Janeiro</td>\n",
              "      <td>Brazil</td>\n",
              "      <td>BR</td>\n",
              "      <td>-43.358100</td>\n",
              "      <td>-22.942800</td>\n",
              "    </tr>\n",
              "    <tr>\n",
              "      <th>498</th>\n",
              "      <td>2020-03-03 21:27:11</td>\n",
              "      <td>Um vira-lata sem Coronavirus #joeviralata #dog...</td>\n",
              "      <td>0</td>\n",
              "      <td>pt</td>\n",
              "      <td>Sao Paulo</td>\n",
              "      <td>Brazil</td>\n",
              "      <td>BR</td>\n",
              "      <td>-46.633300</td>\n",
              "      <td>-23.550000</td>\n",
              "    </tr>\n",
              "  </tbody>\n",
              "</table>\n",
              "<p>392 rows × 9 columns</p>\n",
              "</div>"
            ],
            "text/plain": [
              "                    data  ...  longitude\n",
              "0    2020-05-23 00:21:14  ... -22.522600\n",
              "1    2020-03-22 22:57:51  ... -23.606067\n",
              "3    2020-05-25 20:45:43  ... -23.550000\n",
              "4    2020-04-15 10:34:39  ... -23.975947\n",
              "7    2020-03-22 19:12:37  ... -22.961900\n",
              "..                   ...  ...        ...\n",
              "493  2020-04-08 23:40:59  ... -25.297434\n",
              "494  2020-04-14 12:06:38  ... -23.540780\n",
              "495  2020-04-07 16:14:13  ...  -9.932246\n",
              "496  2020-03-26 18:02:28  ... -22.942800\n",
              "498  2020-03-03 21:27:11  ... -23.550000\n",
              "\n",
              "[392 rows x 9 columns]"
            ]
          },
          "metadata": {
            "tags": []
          },
          "execution_count": 46
        }
      ]
    },
    {
      "cell_type": "code",
      "metadata": {
        "colab": {
          "base_uri": "https://localhost:8080/"
        },
        "id": "kiueTMi6AouZ",
        "outputId": "e5ded1f6-e65e-4d14-8a3c-f9014668e322"
      },
      "source": [
        "dados_filtrados.lugar.describe()"
      ],
      "execution_count": null,
      "outputs": [
        {
          "output_type": "execute_result",
          "data": {
            "text/plain": [
              "count           392\n",
              "unique          160\n",
              "top       Sao Paulo\n",
              "freq             55\n",
              "Name: lugar, dtype: object"
            ]
          },
          "metadata": {
            "tags": []
          },
          "execution_count": 47
        }
      ]
    },
    {
      "cell_type": "code",
      "metadata": {
        "colab": {
          "base_uri": "https://localhost:8080/"
        },
        "id": "GimcpqFyAy2P",
        "outputId": "f37488d1-5c71-4aed-ea29-a705bec9d21a"
      },
      "source": [
        "len(dados_filtrados.lugar.unique())"
      ],
      "execution_count": null,
      "outputs": [
        {
          "output_type": "execute_result",
          "data": {
            "text/plain": [
              "160"
            ]
          },
          "metadata": {
            "tags": []
          },
          "execution_count": 50
        }
      ]
    },
    {
      "cell_type": "code",
      "metadata": {
        "colab": {
          "base_uri": "https://localhost:8080/"
        },
        "id": "CH_mViqUA7qH",
        "outputId": "c87307ca-0827-43c4-beb2-fdd12f750654"
      },
      "source": [
        "dt.sigla.value_counts()"
      ],
      "execution_count": null,
      "outputs": [
        {
          "output_type": "execute_result",
          "data": {
            "text/plain": [
              "BR    392\n",
              "PT     67\n",
              "US     11\n",
              "CA      6\n",
              "ES      3\n",
              "AU      2\n",
              "NZ      2\n",
              "IT      2\n",
              "FR      2\n",
              "MZ      1\n",
              "EC      1\n",
              "ID      1\n",
              "VA      1\n",
              "CH      1\n",
              "DO      1\n",
              "CN      1\n",
              "MX      1\n",
              "IN      1\n",
              "NL      1\n",
              "GB      1\n",
              "CW      1\n",
              "Name: sigla, dtype: int64"
            ]
          },
          "metadata": {
            "tags": []
          },
          "execution_count": 52
        }
      ]
    },
    {
      "cell_type": "code",
      "metadata": {
        "colab": {
          "base_uri": "https://localhost:8080/",
          "height": 739
        },
        "id": "VhaLkh0-BMj2",
        "outputId": "cb9e9300-288a-406a-c558-0f9d9d69e509"
      },
      "source": [
        "dt.groupby('sigla').retweet.describe()"
      ],
      "execution_count": null,
      "outputs": [
        {
          "output_type": "execute_result",
          "data": {
            "text/html": [
              "<div>\n",
              "<style scoped>\n",
              "    .dataframe tbody tr th:only-of-type {\n",
              "        vertical-align: middle;\n",
              "    }\n",
              "\n",
              "    .dataframe tbody tr th {\n",
              "        vertical-align: top;\n",
              "    }\n",
              "\n",
              "    .dataframe thead th {\n",
              "        text-align: right;\n",
              "    }\n",
              "</style>\n",
              "<table border=\"1\" class=\"dataframe\">\n",
              "  <thead>\n",
              "    <tr style=\"text-align: right;\">\n",
              "      <th></th>\n",
              "      <th>count</th>\n",
              "      <th>mean</th>\n",
              "      <th>std</th>\n",
              "      <th>min</th>\n",
              "      <th>25%</th>\n",
              "      <th>50%</th>\n",
              "      <th>75%</th>\n",
              "      <th>max</th>\n",
              "    </tr>\n",
              "    <tr>\n",
              "      <th>sigla</th>\n",
              "      <th></th>\n",
              "      <th></th>\n",
              "      <th></th>\n",
              "      <th></th>\n",
              "      <th></th>\n",
              "      <th></th>\n",
              "      <th></th>\n",
              "      <th></th>\n",
              "    </tr>\n",
              "  </thead>\n",
              "  <tbody>\n",
              "    <tr>\n",
              "      <th>AU</th>\n",
              "      <td>2.0</td>\n",
              "      <td>0.500000</td>\n",
              "      <td>0.707107</td>\n",
              "      <td>0.0</td>\n",
              "      <td>0.25</td>\n",
              "      <td>0.5</td>\n",
              "      <td>0.75</td>\n",
              "      <td>1.0</td>\n",
              "    </tr>\n",
              "    <tr>\n",
              "      <th>BR</th>\n",
              "      <td>392.0</td>\n",
              "      <td>0.102041</td>\n",
              "      <td>0.397943</td>\n",
              "      <td>0.0</td>\n",
              "      <td>0.00</td>\n",
              "      <td>0.0</td>\n",
              "      <td>0.00</td>\n",
              "      <td>3.0</td>\n",
              "    </tr>\n",
              "    <tr>\n",
              "      <th>CA</th>\n",
              "      <td>6.0</td>\n",
              "      <td>0.333333</td>\n",
              "      <td>0.816497</td>\n",
              "      <td>0.0</td>\n",
              "      <td>0.00</td>\n",
              "      <td>0.0</td>\n",
              "      <td>0.00</td>\n",
              "      <td>2.0</td>\n",
              "    </tr>\n",
              "    <tr>\n",
              "      <th>CH</th>\n",
              "      <td>1.0</td>\n",
              "      <td>0.000000</td>\n",
              "      <td>NaN</td>\n",
              "      <td>0.0</td>\n",
              "      <td>0.00</td>\n",
              "      <td>0.0</td>\n",
              "      <td>0.00</td>\n",
              "      <td>0.0</td>\n",
              "    </tr>\n",
              "    <tr>\n",
              "      <th>CN</th>\n",
              "      <td>1.0</td>\n",
              "      <td>0.000000</td>\n",
              "      <td>NaN</td>\n",
              "      <td>0.0</td>\n",
              "      <td>0.00</td>\n",
              "      <td>0.0</td>\n",
              "      <td>0.00</td>\n",
              "      <td>0.0</td>\n",
              "    </tr>\n",
              "    <tr>\n",
              "      <th>CW</th>\n",
              "      <td>1.0</td>\n",
              "      <td>0.000000</td>\n",
              "      <td>NaN</td>\n",
              "      <td>0.0</td>\n",
              "      <td>0.00</td>\n",
              "      <td>0.0</td>\n",
              "      <td>0.00</td>\n",
              "      <td>0.0</td>\n",
              "    </tr>\n",
              "    <tr>\n",
              "      <th>DO</th>\n",
              "      <td>1.0</td>\n",
              "      <td>0.000000</td>\n",
              "      <td>NaN</td>\n",
              "      <td>0.0</td>\n",
              "      <td>0.00</td>\n",
              "      <td>0.0</td>\n",
              "      <td>0.00</td>\n",
              "      <td>0.0</td>\n",
              "    </tr>\n",
              "    <tr>\n",
              "      <th>EC</th>\n",
              "      <td>1.0</td>\n",
              "      <td>0.000000</td>\n",
              "      <td>NaN</td>\n",
              "      <td>0.0</td>\n",
              "      <td>0.00</td>\n",
              "      <td>0.0</td>\n",
              "      <td>0.00</td>\n",
              "      <td>0.0</td>\n",
              "    </tr>\n",
              "    <tr>\n",
              "      <th>ES</th>\n",
              "      <td>3.0</td>\n",
              "      <td>0.000000</td>\n",
              "      <td>0.000000</td>\n",
              "      <td>0.0</td>\n",
              "      <td>0.00</td>\n",
              "      <td>0.0</td>\n",
              "      <td>0.00</td>\n",
              "      <td>0.0</td>\n",
              "    </tr>\n",
              "    <tr>\n",
              "      <th>FR</th>\n",
              "      <td>2.0</td>\n",
              "      <td>0.000000</td>\n",
              "      <td>0.000000</td>\n",
              "      <td>0.0</td>\n",
              "      <td>0.00</td>\n",
              "      <td>0.0</td>\n",
              "      <td>0.00</td>\n",
              "      <td>0.0</td>\n",
              "    </tr>\n",
              "    <tr>\n",
              "      <th>GB</th>\n",
              "      <td>1.0</td>\n",
              "      <td>1.000000</td>\n",
              "      <td>NaN</td>\n",
              "      <td>1.0</td>\n",
              "      <td>1.00</td>\n",
              "      <td>1.0</td>\n",
              "      <td>1.00</td>\n",
              "      <td>1.0</td>\n",
              "    </tr>\n",
              "    <tr>\n",
              "      <th>ID</th>\n",
              "      <td>1.0</td>\n",
              "      <td>0.000000</td>\n",
              "      <td>NaN</td>\n",
              "      <td>0.0</td>\n",
              "      <td>0.00</td>\n",
              "      <td>0.0</td>\n",
              "      <td>0.00</td>\n",
              "      <td>0.0</td>\n",
              "    </tr>\n",
              "    <tr>\n",
              "      <th>IN</th>\n",
              "      <td>1.0</td>\n",
              "      <td>0.000000</td>\n",
              "      <td>NaN</td>\n",
              "      <td>0.0</td>\n",
              "      <td>0.00</td>\n",
              "      <td>0.0</td>\n",
              "      <td>0.00</td>\n",
              "      <td>0.0</td>\n",
              "    </tr>\n",
              "    <tr>\n",
              "      <th>IT</th>\n",
              "      <td>2.0</td>\n",
              "      <td>0.000000</td>\n",
              "      <td>0.000000</td>\n",
              "      <td>0.0</td>\n",
              "      <td>0.00</td>\n",
              "      <td>0.0</td>\n",
              "      <td>0.00</td>\n",
              "      <td>0.0</td>\n",
              "    </tr>\n",
              "    <tr>\n",
              "      <th>MX</th>\n",
              "      <td>1.0</td>\n",
              "      <td>0.000000</td>\n",
              "      <td>NaN</td>\n",
              "      <td>0.0</td>\n",
              "      <td>0.00</td>\n",
              "      <td>0.0</td>\n",
              "      <td>0.00</td>\n",
              "      <td>0.0</td>\n",
              "    </tr>\n",
              "    <tr>\n",
              "      <th>MZ</th>\n",
              "      <td>1.0</td>\n",
              "      <td>0.000000</td>\n",
              "      <td>NaN</td>\n",
              "      <td>0.0</td>\n",
              "      <td>0.00</td>\n",
              "      <td>0.0</td>\n",
              "      <td>0.00</td>\n",
              "      <td>0.0</td>\n",
              "    </tr>\n",
              "    <tr>\n",
              "      <th>NL</th>\n",
              "      <td>1.0</td>\n",
              "      <td>0.000000</td>\n",
              "      <td>NaN</td>\n",
              "      <td>0.0</td>\n",
              "      <td>0.00</td>\n",
              "      <td>0.0</td>\n",
              "      <td>0.00</td>\n",
              "      <td>0.0</td>\n",
              "    </tr>\n",
              "    <tr>\n",
              "      <th>NZ</th>\n",
              "      <td>2.0</td>\n",
              "      <td>0.000000</td>\n",
              "      <td>0.000000</td>\n",
              "      <td>0.0</td>\n",
              "      <td>0.00</td>\n",
              "      <td>0.0</td>\n",
              "      <td>0.00</td>\n",
              "      <td>0.0</td>\n",
              "    </tr>\n",
              "    <tr>\n",
              "      <th>PT</th>\n",
              "      <td>67.0</td>\n",
              "      <td>0.582090</td>\n",
              "      <td>0.819262</td>\n",
              "      <td>0.0</td>\n",
              "      <td>0.00</td>\n",
              "      <td>0.0</td>\n",
              "      <td>1.00</td>\n",
              "      <td>4.0</td>\n",
              "    </tr>\n",
              "    <tr>\n",
              "      <th>US</th>\n",
              "      <td>11.0</td>\n",
              "      <td>0.272727</td>\n",
              "      <td>0.646670</td>\n",
              "      <td>0.0</td>\n",
              "      <td>0.00</td>\n",
              "      <td>0.0</td>\n",
              "      <td>0.00</td>\n",
              "      <td>2.0</td>\n",
              "    </tr>\n",
              "    <tr>\n",
              "      <th>VA</th>\n",
              "      <td>1.0</td>\n",
              "      <td>0.000000</td>\n",
              "      <td>NaN</td>\n",
              "      <td>0.0</td>\n",
              "      <td>0.00</td>\n",
              "      <td>0.0</td>\n",
              "      <td>0.00</td>\n",
              "      <td>0.0</td>\n",
              "    </tr>\n",
              "  </tbody>\n",
              "</table>\n",
              "</div>"
            ],
            "text/plain": [
              "       count      mean       std  min   25%  50%   75%  max\n",
              "sigla                                                      \n",
              "AU       2.0  0.500000  0.707107  0.0  0.25  0.5  0.75  1.0\n",
              "BR     392.0  0.102041  0.397943  0.0  0.00  0.0  0.00  3.0\n",
              "CA       6.0  0.333333  0.816497  0.0  0.00  0.0  0.00  2.0\n",
              "CH       1.0  0.000000       NaN  0.0  0.00  0.0  0.00  0.0\n",
              "CN       1.0  0.000000       NaN  0.0  0.00  0.0  0.00  0.0\n",
              "CW       1.0  0.000000       NaN  0.0  0.00  0.0  0.00  0.0\n",
              "DO       1.0  0.000000       NaN  0.0  0.00  0.0  0.00  0.0\n",
              "EC       1.0  0.000000       NaN  0.0  0.00  0.0  0.00  0.0\n",
              "ES       3.0  0.000000  0.000000  0.0  0.00  0.0  0.00  0.0\n",
              "FR       2.0  0.000000  0.000000  0.0  0.00  0.0  0.00  0.0\n",
              "GB       1.0  1.000000       NaN  1.0  1.00  1.0  1.00  1.0\n",
              "ID       1.0  0.000000       NaN  0.0  0.00  0.0  0.00  0.0\n",
              "IN       1.0  0.000000       NaN  0.0  0.00  0.0  0.00  0.0\n",
              "IT       2.0  0.000000  0.000000  0.0  0.00  0.0  0.00  0.0\n",
              "MX       1.0  0.000000       NaN  0.0  0.00  0.0  0.00  0.0\n",
              "MZ       1.0  0.000000       NaN  0.0  0.00  0.0  0.00  0.0\n",
              "NL       1.0  0.000000       NaN  0.0  0.00  0.0  0.00  0.0\n",
              "NZ       2.0  0.000000  0.000000  0.0  0.00  0.0  0.00  0.0\n",
              "PT      67.0  0.582090  0.819262  0.0  0.00  0.0  1.00  4.0\n",
              "US      11.0  0.272727  0.646670  0.0  0.00  0.0  0.00  2.0\n",
              "VA       1.0  0.000000       NaN  0.0  0.00  0.0  0.00  0.0"
            ]
          },
          "metadata": {
            "tags": []
          },
          "execution_count": 56
        }
      ]
    },
    {
      "cell_type": "code",
      "metadata": {
        "colab": {
          "base_uri": "https://localhost:8080/"
        },
        "id": "VbB6o-8WBZBq",
        "outputId": "46971bf0-0d65-49f9-d824-d1bbab9587f3"
      },
      "source": [
        "dt.sort_values(by='data',ascending=True).iloc[0]"
      ],
      "execution_count": null,
      "outputs": [
        {
          "output_type": "execute_result",
          "data": {
            "text/plain": [
              "data                                       2020-01-14 01:01:54\n",
              "texto        O isolamento social é um problema cada vez mai...\n",
              "retweet                                                      0\n",
              "idioma                                                      pt\n",
              "lugar                                                 Salvador\n",
              "pais                                                    Brazil\n",
              "sigla                                                       BR\n",
              "latitude                                              -38.5218\n",
              "longitude                                             -13.0055\n",
              "Name: 216, dtype: object"
            ]
          },
          "metadata": {
            "tags": []
          },
          "execution_count": 61
        }
      ]
    },
    {
      "cell_type": "code",
      "metadata": {
        "colab": {
          "base_uri": "https://localhost:8080/",
          "height": 677
        },
        "id": "m3mNfkpbCoaS",
        "outputId": "0619d8af-7011-4be9-9f97-f656c71e16ec"
      },
      "source": [
        "dt.sort_values(by=['pais','lugar']).iloc[0:20]"
      ],
      "execution_count": null,
      "outputs": [
        {
          "output_type": "execute_result",
          "data": {
            "text/html": [
              "<div>\n",
              "<style scoped>\n",
              "    .dataframe tbody tr th:only-of-type {\n",
              "        vertical-align: middle;\n",
              "    }\n",
              "\n",
              "    .dataframe tbody tr th {\n",
              "        vertical-align: top;\n",
              "    }\n",
              "\n",
              "    .dataframe thead th {\n",
              "        text-align: right;\n",
              "    }\n",
              "</style>\n",
              "<table border=\"1\" class=\"dataframe\">\n",
              "  <thead>\n",
              "    <tr style=\"text-align: right;\">\n",
              "      <th></th>\n",
              "      <th>data</th>\n",
              "      <th>texto</th>\n",
              "      <th>retweet</th>\n",
              "      <th>idioma</th>\n",
              "      <th>lugar</th>\n",
              "      <th>pais</th>\n",
              "      <th>sigla</th>\n",
              "      <th>latitude</th>\n",
              "      <th>longitude</th>\n",
              "    </tr>\n",
              "  </thead>\n",
              "  <tbody>\n",
              "    <tr>\n",
              "      <th>86</th>\n",
              "      <td>2020-03-19 20:45:14</td>\n",
              "      <td>As pesquisas não param! 💻 A equipe do Lab404 s...</td>\n",
              "      <td>1</td>\n",
              "      <td>pt</td>\n",
              "      <td>Melbourne</td>\n",
              "      <td>Australia</td>\n",
              "      <td>AU</td>\n",
              "      <td>144.960154</td>\n",
              "      <td>-37.818769</td>\n",
              "    </tr>\n",
              "    <tr>\n",
              "      <th>354</th>\n",
              "      <td>2020-02-21 10:34:40</td>\n",
              "      <td>Australia’s first dedicated e-sports bar @ GG ...</td>\n",
              "      <td>0</td>\n",
              "      <td>en</td>\n",
              "      <td>Melbourne</td>\n",
              "      <td>Australia</td>\n",
              "      <td>AU</td>\n",
              "      <td>144.961030</td>\n",
              "      <td>-37.816360</td>\n",
              "    </tr>\n",
              "    <tr>\n",
              "      <th>153</th>\n",
              "      <td>2020-04-09 21:28:32</td>\n",
              "      <td>FAÇA O SEU CONSÓRCIO, FINANCIAMENTO OU O SEU S...</td>\n",
              "      <td>0</td>\n",
              "      <td>pt</td>\n",
              "      <td>Abre Campo</td>\n",
              "      <td>Brazil</td>\n",
              "      <td>BR</td>\n",
              "      <td>-42.476260</td>\n",
              "      <td>-20.298590</td>\n",
              "    </tr>\n",
              "    <tr>\n",
              "      <th>353</th>\n",
              "      <td>2020-04-14 12:54:32</td>\n",
              "      <td>#covid #angradosreis #covid_19 #coronavirusbra...</td>\n",
              "      <td>0</td>\n",
              "      <td>pt</td>\n",
              "      <td>Angra dos Reis</td>\n",
              "      <td>Brazil</td>\n",
              "      <td>BR</td>\n",
              "      <td>-44.305500</td>\n",
              "      <td>-22.997500</td>\n",
              "    </tr>\n",
              "    <tr>\n",
              "      <th>390</th>\n",
              "      <td>2020-05-31 16:51:03</td>\n",
              "      <td>Existe vida mais barata , mas também existe vi...</td>\n",
              "      <td>0</td>\n",
              "      <td>pt</td>\n",
              "      <td>Angra dos Reis</td>\n",
              "      <td>Brazil</td>\n",
              "      <td>BR</td>\n",
              "      <td>-44.338708</td>\n",
              "      <td>-22.940978</td>\n",
              "    </tr>\n",
              "    <tr>\n",
              "      <th>455</th>\n",
              "      <td>2020-03-08 19:30:30</td>\n",
              "      <td>O programa Passando a Limpo com Carla Machado ...</td>\n",
              "      <td>0</td>\n",
              "      <td>pt</td>\n",
              "      <td>Angra dos Reis</td>\n",
              "      <td>Brazil</td>\n",
              "      <td>BR</td>\n",
              "      <td>-44.317986</td>\n",
              "      <td>-23.007902</td>\n",
              "    </tr>\n",
              "    <tr>\n",
              "      <th>119</th>\n",
              "      <td>2020-05-19 15:38:47</td>\n",
              "      <td>ATENÇÃO! ⚠🔊🚨 Confira acima os horários do esca...</td>\n",
              "      <td>0</td>\n",
              "      <td>pt</td>\n",
              "      <td>Aparecida de Goiânia</td>\n",
              "      <td>Brazil</td>\n",
              "      <td>BR</td>\n",
              "      <td>-49.269078</td>\n",
              "      <td>-16.735491</td>\n",
              "    </tr>\n",
              "    <tr>\n",
              "      <th>223</th>\n",
              "      <td>2020-05-22 04:34:25</td>\n",
              "      <td>° 📌 Segundo dia de quarentena. Mais uma visita...</td>\n",
              "      <td>0</td>\n",
              "      <td>pt</td>\n",
              "      <td>Apuí</td>\n",
              "      <td>Brazil</td>\n",
              "      <td>BR</td>\n",
              "      <td>-59.892244</td>\n",
              "      <td>-7.199220</td>\n",
              "    </tr>\n",
              "    <tr>\n",
              "      <th>82</th>\n",
              "      <td>2020-03-24 21:06:15</td>\n",
              "      <td>Eita! Kkkkkkkkkkkkkkk... Depois não digam que ...</td>\n",
              "      <td>0</td>\n",
              "      <td>pt</td>\n",
              "      <td>Aracaju</td>\n",
              "      <td>Brazil</td>\n",
              "      <td>BR</td>\n",
              "      <td>-37.064784</td>\n",
              "      <td>-10.949830</td>\n",
              "    </tr>\n",
              "    <tr>\n",
              "      <th>169</th>\n",
              "      <td>2020-04-14 22:00:01</td>\n",
              "      <td>Live em dose dupla nesta quarta-feira a partir...</td>\n",
              "      <td>1</td>\n",
              "      <td>pt</td>\n",
              "      <td>Aracaju</td>\n",
              "      <td>Brazil</td>\n",
              "      <td>BR</td>\n",
              "      <td>-37.052600</td>\n",
              "      <td>-10.916200</td>\n",
              "    </tr>\n",
              "    <tr>\n",
              "      <th>16</th>\n",
              "      <td>2020-05-18 23:45:11</td>\n",
              "      <td>E aí vamos testar uma live amanhã, fazer conte...</td>\n",
              "      <td>0</td>\n",
              "      <td>pt</td>\n",
              "      <td>Aragarças</td>\n",
              "      <td>Brazil</td>\n",
              "      <td>BR</td>\n",
              "      <td>-52.260080</td>\n",
              "      <td>-15.892750</td>\n",
              "    </tr>\n",
              "    <tr>\n",
              "      <th>143</th>\n",
              "      <td>2020-05-19 22:15:49</td>\n",
              "      <td>Com o objetivo de oferecer comodidade, confort...</td>\n",
              "      <td>0</td>\n",
              "      <td>pt</td>\n",
              "      <td>Arapiraca</td>\n",
              "      <td>Brazil</td>\n",
              "      <td>BR</td>\n",
              "      <td>-36.660015</td>\n",
              "      <td>-9.745281</td>\n",
              "    </tr>\n",
              "    <tr>\n",
              "      <th>411</th>\n",
              "      <td>2020-05-18 23:35:09</td>\n",
              "      <td>O Brasil não deve estar entre os primeiros paí...</td>\n",
              "      <td>0</td>\n",
              "      <td>pt</td>\n",
              "      <td>Arapiraca</td>\n",
              "      <td>Brazil</td>\n",
              "      <td>BR</td>\n",
              "      <td>-36.660800</td>\n",
              "      <td>-9.751900</td>\n",
              "    </tr>\n",
              "    <tr>\n",
              "      <th>247</th>\n",
              "      <td>2020-04-04 16:47:49</td>\n",
              "      <td>Não existe tempestades eternas; um dia o tempo...</td>\n",
              "      <td>0</td>\n",
              "      <td>pt</td>\n",
              "      <td>Arraial do Cabo</td>\n",
              "      <td>Brazil</td>\n",
              "      <td>BR</td>\n",
              "      <td>-42.030690</td>\n",
              "      <td>-22.976070</td>\n",
              "    </tr>\n",
              "    <tr>\n",
              "      <th>91</th>\n",
              "      <td>2020-03-24 17:48:41</td>\n",
              "      <td>\"A importância do isolamento social na contenç...</td>\n",
              "      <td>0</td>\n",
              "      <td>pt</td>\n",
              "      <td>Bacabal</td>\n",
              "      <td>Brazil</td>\n",
              "      <td>BR</td>\n",
              "      <td>-44.780140</td>\n",
              "      <td>-4.221890</td>\n",
              "    </tr>\n",
              "    <tr>\n",
              "      <th>133</th>\n",
              "      <td>2020-04-07 16:35:13</td>\n",
              "      <td>Não tem muito o que pensar. Prorrogar agora an...</td>\n",
              "      <td>0</td>\n",
              "      <td>pt</td>\n",
              "      <td>Balneário Camboriú</td>\n",
              "      <td>Brazil</td>\n",
              "      <td>BR</td>\n",
              "      <td>-48.632700</td>\n",
              "      <td>-26.989500</td>\n",
              "    </tr>\n",
              "    <tr>\n",
              "      <th>61</th>\n",
              "      <td>2020-05-26 21:02:38</td>\n",
              "      <td>Muito triste ver que 195 adolescentes foram co...</td>\n",
              "      <td>0</td>\n",
              "      <td>pt</td>\n",
              "      <td>Barbacena</td>\n",
              "      <td>Brazil</td>\n",
              "      <td>BR</td>\n",
              "      <td>-43.766317</td>\n",
              "      <td>-21.219582</td>\n",
              "    </tr>\n",
              "    <tr>\n",
              "      <th>261</th>\n",
              "      <td>2020-03-21 19:48:59</td>\n",
              "      <td>Agora são 16:30 de sábado 21/03 e esta é a ver...</td>\n",
              "      <td>0</td>\n",
              "      <td>pt</td>\n",
              "      <td>Barretos</td>\n",
              "      <td>Brazil</td>\n",
              "      <td>BR</td>\n",
              "      <td>-48.567800</td>\n",
              "      <td>-20.557200</td>\n",
              "    </tr>\n",
              "    <tr>\n",
              "      <th>436</th>\n",
              "      <td>2020-04-04 13:16:54</td>\n",
              "      <td>IMPORTANTE- Confirmações de casos de coronavir...</td>\n",
              "      <td>0</td>\n",
              "      <td>pt</td>\n",
              "      <td>Barretos</td>\n",
              "      <td>Brazil</td>\n",
              "      <td>BR</td>\n",
              "      <td>-48.567800</td>\n",
              "      <td>-20.557200</td>\n",
              "    </tr>\n",
              "    <tr>\n",
              "      <th>439</th>\n",
              "      <td>2020-03-21 20:43:39</td>\n",
              "      <td>Nossa diversão dará lugar à luta contra o Coro...</td>\n",
              "      <td>0</td>\n",
              "      <td>pt</td>\n",
              "      <td>Barretos</td>\n",
              "      <td>Brazil</td>\n",
              "      <td>BR</td>\n",
              "      <td>-48.584118</td>\n",
              "      <td>-20.576385</td>\n",
              "    </tr>\n",
              "  </tbody>\n",
              "</table>\n",
              "</div>"
            ],
            "text/plain": [
              "                    data  ...  longitude\n",
              "86   2020-03-19 20:45:14  ... -37.818769\n",
              "354  2020-02-21 10:34:40  ... -37.816360\n",
              "153  2020-04-09 21:28:32  ... -20.298590\n",
              "353  2020-04-14 12:54:32  ... -22.997500\n",
              "390  2020-05-31 16:51:03  ... -22.940978\n",
              "455  2020-03-08 19:30:30  ... -23.007902\n",
              "119  2020-05-19 15:38:47  ... -16.735491\n",
              "223  2020-05-22 04:34:25  ...  -7.199220\n",
              "82   2020-03-24 21:06:15  ... -10.949830\n",
              "169  2020-04-14 22:00:01  ... -10.916200\n",
              "16   2020-05-18 23:45:11  ... -15.892750\n",
              "143  2020-05-19 22:15:49  ...  -9.745281\n",
              "411  2020-05-18 23:35:09  ...  -9.751900\n",
              "247  2020-04-04 16:47:49  ... -22.976070\n",
              "91   2020-03-24 17:48:41  ...  -4.221890\n",
              "133  2020-04-07 16:35:13  ... -26.989500\n",
              "61   2020-05-26 21:02:38  ... -21.219582\n",
              "261  2020-03-21 19:48:59  ... -20.557200\n",
              "436  2020-04-04 13:16:54  ... -20.557200\n",
              "439  2020-03-21 20:43:39  ... -20.576385\n",
              "\n",
              "[20 rows x 9 columns]"
            ]
          },
          "metadata": {
            "tags": []
          },
          "execution_count": 66
        }
      ]
    },
    {
      "cell_type": "code",
      "metadata": {
        "colab": {
          "base_uri": "https://localhost:8080/",
          "height": 424
        },
        "id": "PwdiUFDXDMUl",
        "outputId": "5d002b8b-d7d3-4e73-cdaa-451bc385979e"
      },
      "source": [
        "dt.sort_values(by=['pais','lugar']).loc[dt.sigla == 'BR']"
      ],
      "execution_count": null,
      "outputs": [
        {
          "output_type": "execute_result",
          "data": {
            "text/html": [
              "<div>\n",
              "<style scoped>\n",
              "    .dataframe tbody tr th:only-of-type {\n",
              "        vertical-align: middle;\n",
              "    }\n",
              "\n",
              "    .dataframe tbody tr th {\n",
              "        vertical-align: top;\n",
              "    }\n",
              "\n",
              "    .dataframe thead th {\n",
              "        text-align: right;\n",
              "    }\n",
              "</style>\n",
              "<table border=\"1\" class=\"dataframe\">\n",
              "  <thead>\n",
              "    <tr style=\"text-align: right;\">\n",
              "      <th></th>\n",
              "      <th>data</th>\n",
              "      <th>texto</th>\n",
              "      <th>retweet</th>\n",
              "      <th>idioma</th>\n",
              "      <th>lugar</th>\n",
              "      <th>pais</th>\n",
              "      <th>sigla</th>\n",
              "      <th>latitude</th>\n",
              "      <th>longitude</th>\n",
              "    </tr>\n",
              "  </thead>\n",
              "  <tbody>\n",
              "    <tr>\n",
              "      <th>153</th>\n",
              "      <td>2020-04-09 21:28:32</td>\n",
              "      <td>FAÇA O SEU CONSÓRCIO, FINANCIAMENTO OU O SEU S...</td>\n",
              "      <td>0</td>\n",
              "      <td>pt</td>\n",
              "      <td>Abre Campo</td>\n",
              "      <td>Brazil</td>\n",
              "      <td>BR</td>\n",
              "      <td>-42.476260</td>\n",
              "      <td>-20.298590</td>\n",
              "    </tr>\n",
              "    <tr>\n",
              "      <th>353</th>\n",
              "      <td>2020-04-14 12:54:32</td>\n",
              "      <td>#covid #angradosreis #covid_19 #coronavirusbra...</td>\n",
              "      <td>0</td>\n",
              "      <td>pt</td>\n",
              "      <td>Angra dos Reis</td>\n",
              "      <td>Brazil</td>\n",
              "      <td>BR</td>\n",
              "      <td>-44.305500</td>\n",
              "      <td>-22.997500</td>\n",
              "    </tr>\n",
              "    <tr>\n",
              "      <th>390</th>\n",
              "      <td>2020-05-31 16:51:03</td>\n",
              "      <td>Existe vida mais barata , mas também existe vi...</td>\n",
              "      <td>0</td>\n",
              "      <td>pt</td>\n",
              "      <td>Angra dos Reis</td>\n",
              "      <td>Brazil</td>\n",
              "      <td>BR</td>\n",
              "      <td>-44.338708</td>\n",
              "      <td>-22.940978</td>\n",
              "    </tr>\n",
              "    <tr>\n",
              "      <th>455</th>\n",
              "      <td>2020-03-08 19:30:30</td>\n",
              "      <td>O programa Passando a Limpo com Carla Machado ...</td>\n",
              "      <td>0</td>\n",
              "      <td>pt</td>\n",
              "      <td>Angra dos Reis</td>\n",
              "      <td>Brazil</td>\n",
              "      <td>BR</td>\n",
              "      <td>-44.317986</td>\n",
              "      <td>-23.007902</td>\n",
              "    </tr>\n",
              "    <tr>\n",
              "      <th>119</th>\n",
              "      <td>2020-05-19 15:38:47</td>\n",
              "      <td>ATENÇÃO! ⚠🔊🚨 Confira acima os horários do esca...</td>\n",
              "      <td>0</td>\n",
              "      <td>pt</td>\n",
              "      <td>Aparecida de Goiânia</td>\n",
              "      <td>Brazil</td>\n",
              "      <td>BR</td>\n",
              "      <td>-49.269078</td>\n",
              "      <td>-16.735491</td>\n",
              "    </tr>\n",
              "    <tr>\n",
              "      <th>...</th>\n",
              "      <td>...</td>\n",
              "      <td>...</td>\n",
              "      <td>...</td>\n",
              "      <td>...</td>\n",
              "      <td>...</td>\n",
              "      <td>...</td>\n",
              "      <td>...</td>\n",
              "      <td>...</td>\n",
              "      <td>...</td>\n",
              "    </tr>\n",
              "    <tr>\n",
              "      <th>159</th>\n",
              "      <td>2020-03-19 20:53:17</td>\n",
              "      <td>Comunicado sobre a pandemia da Covid-19 e o fu...</td>\n",
              "      <td>0</td>\n",
              "      <td>pt</td>\n",
              "      <td>Vitória</td>\n",
              "      <td>Brazil</td>\n",
              "      <td>BR</td>\n",
              "      <td>-40.289934</td>\n",
              "      <td>-20.317303</td>\n",
              "    </tr>\n",
              "    <tr>\n",
              "      <th>233</th>\n",
              "      <td>2020-04-15 22:22:28</td>\n",
              "      <td>Já fizemos quarentena. Já deu tempo de prepara...</td>\n",
              "      <td>0</td>\n",
              "      <td>pt</td>\n",
              "      <td>Vitória</td>\n",
              "      <td>Brazil</td>\n",
              "      <td>BR</td>\n",
              "      <td>-40.337800</td>\n",
              "      <td>-20.318900</td>\n",
              "    </tr>\n",
              "    <tr>\n",
              "      <th>417</th>\n",
              "      <td>2020-05-22 22:28:01</td>\n",
              "      <td>Da série \"O que nossos alunos estão fazendo na...</td>\n",
              "      <td>0</td>\n",
              "      <td>pt</td>\n",
              "      <td>Vitória da Conquista</td>\n",
              "      <td>Brazil</td>\n",
              "      <td>BR</td>\n",
              "      <td>-40.850000</td>\n",
              "      <td>-14.850000</td>\n",
              "    </tr>\n",
              "    <tr>\n",
              "      <th>152</th>\n",
              "      <td>2020-03-31 23:16:45</td>\n",
              "      <td>O mundo não é mais o mesmo depois dessa #pande...</td>\n",
              "      <td>0</td>\n",
              "      <td>pt</td>\n",
              "      <td>Vitória de Santo Antão</td>\n",
              "      <td>Brazil</td>\n",
              "      <td>BR</td>\n",
              "      <td>-35.295800</td>\n",
              "      <td>-8.119400</td>\n",
              "    </tr>\n",
              "    <tr>\n",
              "      <th>142</th>\n",
              "      <td>2020-03-18 21:26:56</td>\n",
              "      <td>#moraesesilvaadvogados #hebersonmoraesadvogado...</td>\n",
              "      <td>0</td>\n",
              "      <td>pt</td>\n",
              "      <td>Volta Redonda</td>\n",
              "      <td>Brazil</td>\n",
              "      <td>BR</td>\n",
              "      <td>-44.103900</td>\n",
              "      <td>-22.522800</td>\n",
              "    </tr>\n",
              "  </tbody>\n",
              "</table>\n",
              "<p>392 rows × 9 columns</p>\n",
              "</div>"
            ],
            "text/plain": [
              "                    data  ...  longitude\n",
              "153  2020-04-09 21:28:32  ... -20.298590\n",
              "353  2020-04-14 12:54:32  ... -22.997500\n",
              "390  2020-05-31 16:51:03  ... -22.940978\n",
              "455  2020-03-08 19:30:30  ... -23.007902\n",
              "119  2020-05-19 15:38:47  ... -16.735491\n",
              "..                   ...  ...        ...\n",
              "159  2020-03-19 20:53:17  ... -20.317303\n",
              "233  2020-04-15 22:22:28  ... -20.318900\n",
              "417  2020-05-22 22:28:01  ... -14.850000\n",
              "152  2020-03-31 23:16:45  ...  -8.119400\n",
              "142  2020-03-18 21:26:56  ... -22.522800\n",
              "\n",
              "[392 rows x 9 columns]"
            ]
          },
          "metadata": {
            "tags": []
          },
          "execution_count": 69
        }
      ]
    },
    {
      "cell_type": "code",
      "metadata": {
        "colab": {
          "base_uri": "https://localhost:8080/"
        },
        "id": "pbit1acfDngc",
        "outputId": "1ee83f48-e99b-47a5-cb15-7cd765c160e8"
      },
      "source": [
        "!pip install geopandas"
      ],
      "execution_count": null,
      "outputs": [
        {
          "output_type": "stream",
          "text": [
            "Collecting geopandas\n",
            "\u001b[?25l  Downloading https://files.pythonhosted.org/packages/2a/9f/e8a440a993e024c0d3d4e5c7d3346367c50c9a1a3d735caf5ee3bde0aab1/geopandas-0.8.2-py2.py3-none-any.whl (962kB)\n",
            "\u001b[K     |████████████████████████████████| 972kB 5.6MB/s \n",
            "\u001b[?25hCollecting pyproj>=2.2.0\n",
            "\u001b[?25l  Downloading https://files.pythonhosted.org/packages/e4/ab/280e80a67cfc109d15428c0ec56391fc03a65857b7727cf4e6e6f99a4204/pyproj-3.0.0.post1-cp36-cp36m-manylinux2010_x86_64.whl (6.4MB)\n",
            "\u001b[K     |████████████████████████████████| 6.5MB 11.9MB/s \n",
            "\u001b[?25hRequirement already satisfied: pandas>=0.23.0 in /usr/local/lib/python3.6/dist-packages (from geopandas) (1.1.5)\n",
            "Collecting fiona\n",
            "\u001b[?25l  Downloading https://files.pythonhosted.org/packages/37/94/4910fd55246c1d963727b03885ead6ef1cd3748a465f7b0239ab25dfc9a3/Fiona-1.8.18-cp36-cp36m-manylinux1_x86_64.whl (14.8MB)\n",
            "\u001b[K     |████████████████████████████████| 14.8MB 229kB/s \n",
            "\u001b[?25hRequirement already satisfied: shapely in /usr/local/lib/python3.6/dist-packages (from geopandas) (1.7.1)\n",
            "Requirement already satisfied: certifi in /usr/local/lib/python3.6/dist-packages (from pyproj>=2.2.0->geopandas) (2020.12.5)\n",
            "Requirement already satisfied: pytz>=2017.2 in /usr/local/lib/python3.6/dist-packages (from pandas>=0.23.0->geopandas) (2018.9)\n",
            "Requirement already satisfied: python-dateutil>=2.7.3 in /usr/local/lib/python3.6/dist-packages (from pandas>=0.23.0->geopandas) (2.8.1)\n",
            "Requirement already satisfied: numpy>=1.15.4 in /usr/local/lib/python3.6/dist-packages (from pandas>=0.23.0->geopandas) (1.19.5)\n",
            "Requirement already satisfied: click<8,>=4.0 in /usr/local/lib/python3.6/dist-packages (from fiona->geopandas) (7.1.2)\n",
            "Collecting cligj>=0.5\n",
            "  Downloading https://files.pythonhosted.org/packages/42/1e/947eadf10d6804bf276eb8a038bd5307996dceaaa41cfd21b7a15ec62f5d/cligj-0.7.1-py3-none-any.whl\n",
            "Collecting click-plugins>=1.0\n",
            "  Downloading https://files.pythonhosted.org/packages/e9/da/824b92d9942f4e472702488857914bdd50f73021efea15b4cad9aca8ecef/click_plugins-1.1.1-py2.py3-none-any.whl\n",
            "Requirement already satisfied: attrs>=17 in /usr/local/lib/python3.6/dist-packages (from fiona->geopandas) (20.3.0)\n",
            "Collecting munch\n",
            "  Downloading https://files.pythonhosted.org/packages/cc/ab/85d8da5c9a45e072301beb37ad7f833cd344e04c817d97e0cc75681d248f/munch-2.5.0-py2.py3-none-any.whl\n",
            "Requirement already satisfied: six>=1.7 in /usr/local/lib/python3.6/dist-packages (from fiona->geopandas) (1.15.0)\n",
            "Installing collected packages: pyproj, cligj, click-plugins, munch, fiona, geopandas\n",
            "Successfully installed click-plugins-1.1.1 cligj-0.7.1 fiona-1.8.18 geopandas-0.8.2 munch-2.5.0 pyproj-3.0.0.post1\n"
          ],
          "name": "stdout"
        }
      ]
    },
    {
      "cell_type": "code",
      "metadata": {
        "id": "tKmrZ1HdI-vB"
      },
      "source": [
        "from shapely.geometry import Point\n",
        "import geopandas as gpd\n",
        "from geopandas import GeoDataFrame"
      ],
      "execution_count": null,
      "outputs": []
    },
    {
      "cell_type": "code",
      "metadata": {
        "colab": {
          "base_uri": "https://localhost:8080/",
          "height": 206
        },
        "id": "CNpxVhHlJnBQ",
        "outputId": "9d597619-2d5a-4d1e-8a82-1215c2d428f5"
      },
      "source": [
        "dt.head()"
      ],
      "execution_count": null,
      "outputs": [
        {
          "output_type": "execute_result",
          "data": {
            "text/html": [
              "<div>\n",
              "<style scoped>\n",
              "    .dataframe tbody tr th:only-of-type {\n",
              "        vertical-align: middle;\n",
              "    }\n",
              "\n",
              "    .dataframe tbody tr th {\n",
              "        vertical-align: top;\n",
              "    }\n",
              "\n",
              "    .dataframe thead th {\n",
              "        text-align: right;\n",
              "    }\n",
              "</style>\n",
              "<table border=\"1\" class=\"dataframe\">\n",
              "  <thead>\n",
              "    <tr style=\"text-align: right;\">\n",
              "      <th></th>\n",
              "      <th>data</th>\n",
              "      <th>texto</th>\n",
              "      <th>retweet</th>\n",
              "      <th>idioma</th>\n",
              "      <th>lugar</th>\n",
              "      <th>pais</th>\n",
              "      <th>sigla</th>\n",
              "      <th>latitude</th>\n",
              "      <th>longitude</th>\n",
              "    </tr>\n",
              "  </thead>\n",
              "  <tbody>\n",
              "    <tr>\n",
              "      <th>0</th>\n",
              "      <td>2020-05-23 00:21:14</td>\n",
              "      <td>Para voltar tudo ao normal, você precisa fazer...</td>\n",
              "      <td>0</td>\n",
              "      <td>pt</td>\n",
              "      <td>Rio das Ostras</td>\n",
              "      <td>Brazil</td>\n",
              "      <td>BR</td>\n",
              "      <td>-41.937900</td>\n",
              "      <td>-22.522600</td>\n",
              "    </tr>\n",
              "    <tr>\n",
              "      <th>1</th>\n",
              "      <td>2020-03-22 22:57:51</td>\n",
              "      <td>14.245 – O que é a hidroxicloroquina? https://...</td>\n",
              "      <td>0</td>\n",
              "      <td>pt</td>\n",
              "      <td>Sao Paulo</td>\n",
              "      <td>Brazil</td>\n",
              "      <td>BR</td>\n",
              "      <td>-46.674739</td>\n",
              "      <td>-23.606067</td>\n",
              "    </tr>\n",
              "    <tr>\n",
              "      <th>2</th>\n",
              "      <td>2020-04-14 00:11:33</td>\n",
              "      <td>Quarta morte em Lar de Estarreja associada à C...</td>\n",
              "      <td>1</td>\n",
              "      <td>pt</td>\n",
              "      <td>Lisbon</td>\n",
              "      <td>Portugal</td>\n",
              "      <td>PT</td>\n",
              "      <td>-9.099043</td>\n",
              "      <td>38.747518</td>\n",
              "    </tr>\n",
              "    <tr>\n",
              "      <th>3</th>\n",
              "      <td>2020-05-25 20:45:43</td>\n",
              "      <td>COVID-19 |  Hospital municipal Tide Setúbal, n...</td>\n",
              "      <td>0</td>\n",
              "      <td>pt</td>\n",
              "      <td>Sao Paulo</td>\n",
              "      <td>Brazil</td>\n",
              "      <td>BR</td>\n",
              "      <td>-46.633300</td>\n",
              "      <td>-23.550000</td>\n",
              "    </tr>\n",
              "    <tr>\n",
              "      <th>4</th>\n",
              "      <td>2020-04-15 10:34:39</td>\n",
              "      <td>#cenasdocotidiano #santos #distanciamentosocia...</td>\n",
              "      <td>0</td>\n",
              "      <td>pt</td>\n",
              "      <td>Santos</td>\n",
              "      <td>Brazil</td>\n",
              "      <td>BR</td>\n",
              "      <td>-46.293700</td>\n",
              "      <td>-23.975947</td>\n",
              "    </tr>\n",
              "  </tbody>\n",
              "</table>\n",
              "</div>"
            ],
            "text/plain": [
              "                  data  ...  longitude\n",
              "0  2020-05-23 00:21:14  ... -22.522600\n",
              "1  2020-03-22 22:57:51  ... -23.606067\n",
              "2  2020-04-14 00:11:33  ...  38.747518\n",
              "3  2020-05-25 20:45:43  ... -23.550000\n",
              "4  2020-04-15 10:34:39  ... -23.975947\n",
              "\n",
              "[5 rows x 9 columns]"
            ]
          },
          "metadata": {
            "tags": []
          },
          "execution_count": 75
        }
      ]
    },
    {
      "cell_type": "code",
      "metadata": {
        "colab": {
          "base_uri": "https://localhost:8080/",
          "height": 335
        },
        "id": "a8VM4Mi2JqNx",
        "outputId": "8d459f01-df90-4891-9a7f-862abae3d577"
      },
      "source": [
        "geometry = [Point(xy) for xy in zip(dt.latitude, dt.longitude)]\n",
        "\n",
        "gdf = GeoDataFrame(dt, geometry=geometry)\n",
        "\n",
        "world = gpd.read_file(gpd.datasets.get_path('naturalearth_lowres'))\n",
        "gdf.plot(ax=world.plot(figsize=(10, 6)), marker='o', color='red', markersize=15)"
      ],
      "execution_count": null,
      "outputs": [
        {
          "output_type": "execute_result",
          "data": {
            "text/plain": [
              "<matplotlib.axes._subplots.AxesSubplot at 0x7feb9ff36588>"
            ]
          },
          "metadata": {
            "tags": []
          },
          "execution_count": 77
        },
        {
          "output_type": "display_data",
          "data": {
            "image/png": "[encoded data removed]",
            "text/plain": [
              "<Figure size 720x432 with 1 Axes>"
            ]
          },
          "metadata": {
            "tags": [],
            "needs_background": "light"
          }
        }
      ]
    },
    {
      "cell_type": "code",
      "metadata": {
        "colab": {
          "base_uri": "https://localhost:8080/",
          "height": 392
        },
        "id": "6f3vltDPKqfX",
        "outputId": "3c9626cf-dda7-416b-c9af-cefcf109a2d7"
      },
      "source": [
        "ax = world[world.continent == 'South America'].plot(figsize=(10,6))\n",
        "\n",
        "dt_brasil=dt[dt.sigla == 'BR']\n",
        "\n",
        "geometry = [Point(xy) for xy in zip(dt_brasil.latitude, dt_brasil.longitude)]\n",
        "\n",
        "gdf = GeoDataFrame(dt_brasil, geometry=geometry)\n",
        "\n",
        "world = gpd.read_file(gpd.datasets.get_path('naturalearth_lowres'))\n",
        "gdf.plot(ax=ax, marker='o', color='red', markersize=15)"
      ],
      "execution_count": null,
      "outputs": [
        {
          "output_type": "execute_result",
          "data": {
            "text/plain": [
              "<matplotlib.axes._subplots.AxesSubplot at 0x7feb9fef12e8>"
            ]
          },
          "metadata": {
            "tags": []
          },
          "execution_count": 80
        },
        {
          "output_type": "display_data",
          "data": {
            "image/png": "[encoded data removed]",
            "text/plain": [
              "<Figure size 720x432 with 1 Axes>"
            ]
          },
          "metadata": {
            "tags": [],
            "needs_background": "light"
          }
        }
      ]
    },
    {
      "cell_type": "code",
      "metadata": {
        "colab": {
          "base_uri": "https://localhost:8080/",
          "height": 269
        },
        "id": "NjjGVE9jMdrQ",
        "outputId": "3f3b889e-d14f-415b-f7a0-ba09d2954e70"
      },
      "source": [
        "#novo teste\n",
        "\n",
        "df = pd.DataFrame({\n",
        "    'nome':['João','Maria','Pedro','José','Lucas','Luíza','Francisco'],\n",
        "    'idade':[23,78,22,19,45,33,20],\n",
        "    'sexo':['M','F','M','M','M','F','M'],\n",
        "    'estado':['Amazonas','Pará','Amazonas','Pará','Amazonas','Ceará','Ceará'],\n",
        "    'num_filhos':[2,0,0,3,2,1,4],\n",
        "    'num_animais':[5,1,0,5,2,2,3]\n",
        "})\n",
        "df"
      ],
      "execution_count": null,
      "outputs": [
        {
          "output_type": "execute_result",
          "data": {
            "text/html": [
              "<div>\n",
              "<style scoped>\n",
              "    .dataframe tbody tr th:only-of-type {\n",
              "        vertical-align: middle;\n",
              "    }\n",
              "\n",
              "    .dataframe tbody tr th {\n",
              "        vertical-align: top;\n",
              "    }\n",
              "\n",
              "    .dataframe thead th {\n",
              "        text-align: right;\n",
              "    }\n",
              "</style>\n",
              "<table border=\"1\" class=\"dataframe\">\n",
              "  <thead>\n",
              "    <tr style=\"text-align: right;\">\n",
              "      <th></th>\n",
              "      <th>nome</th>\n",
              "      <th>idade</th>\n",
              "      <th>sexo</th>\n",
              "      <th>estado</th>\n",
              "      <th>num_filhos</th>\n",
              "      <th>num_animais</th>\n",
              "    </tr>\n",
              "  </thead>\n",
              "  <tbody>\n",
              "    <tr>\n",
              "      <th>0</th>\n",
              "      <td>João</td>\n",
              "      <td>23</td>\n",
              "      <td>M</td>\n",
              "      <td>Amazonas</td>\n",
              "      <td>2</td>\n",
              "      <td>5</td>\n",
              "    </tr>\n",
              "    <tr>\n",
              "      <th>1</th>\n",
              "      <td>Maria</td>\n",
              "      <td>78</td>\n",
              "      <td>F</td>\n",
              "      <td>Pará</td>\n",
              "      <td>0</td>\n",
              "      <td>1</td>\n",
              "    </tr>\n",
              "    <tr>\n",
              "      <th>2</th>\n",
              "      <td>Pedro</td>\n",
              "      <td>22</td>\n",
              "      <td>M</td>\n",
              "      <td>Amazonas</td>\n",
              "      <td>0</td>\n",
              "      <td>0</td>\n",
              "    </tr>\n",
              "    <tr>\n",
              "      <th>3</th>\n",
              "      <td>José</td>\n",
              "      <td>19</td>\n",
              "      <td>M</td>\n",
              "      <td>Pará</td>\n",
              "      <td>3</td>\n",
              "      <td>5</td>\n",
              "    </tr>\n",
              "    <tr>\n",
              "      <th>4</th>\n",
              "      <td>Lucas</td>\n",
              "      <td>45</td>\n",
              "      <td>M</td>\n",
              "      <td>Amazonas</td>\n",
              "      <td>2</td>\n",
              "      <td>2</td>\n",
              "    </tr>\n",
              "    <tr>\n",
              "      <th>5</th>\n",
              "      <td>Luíza</td>\n",
              "      <td>33</td>\n",
              "      <td>F</td>\n",
              "      <td>Ceará</td>\n",
              "      <td>1</td>\n",
              "      <td>2</td>\n",
              "    </tr>\n",
              "    <tr>\n",
              "      <th>6</th>\n",
              "      <td>Francisco</td>\n",
              "      <td>20</td>\n",
              "      <td>M</td>\n",
              "      <td>Ceará</td>\n",
              "      <td>4</td>\n",
              "      <td>3</td>\n",
              "    </tr>\n",
              "  </tbody>\n",
              "</table>\n",
              "</div>"
            ],
            "text/plain": [
              "        nome  idade sexo    estado  num_filhos  num_animais\n",
              "0       João     23    M  Amazonas           2            5\n",
              "1      Maria     78    F      Pará           0            1\n",
              "2      Pedro     22    M  Amazonas           0            0\n",
              "3       José     19    M      Pará           3            5\n",
              "4      Lucas     45    M  Amazonas           2            2\n",
              "5      Luíza     33    F     Ceará           1            2\n",
              "6  Francisco     20    M     Ceará           4            3"
            ]
          },
          "metadata": {
            "tags": []
          },
          "execution_count": 82
        }
      ]
    },
    {
      "cell_type": "code",
      "metadata": {
        "colab": {
          "base_uri": "https://localhost:8080/",
          "height": 280
        },
        "id": "3Zkv8nNqN28g",
        "outputId": "522abeb0-194d-40cd-a65a-181a2aaa5c89"
      },
      "source": [
        "import matplotlib.pyplot as plt\n",
        "import pandas as pd\n",
        "\n",
        "df.plot(kind='scatter',x='num_filhos',y='num_animais')\n",
        "plt.show()"
      ],
      "execution_count": null,
      "outputs": [
        {
          "output_type": "display_data",
          "data": {
            "image/png": "[encoded data removed]",
            "text/plain": [
              "<Figure size 432x288 with 1 Axes>"
            ]
          },
          "metadata": {
            "tags": [],
            "needs_background": "light"
          }
        }
      ]
    },
    {
      "cell_type": "code",
      "metadata": {
        "colab": {
          "base_uri": "https://localhost:8080/",
          "height": 335
        },
        "id": "foS9ILiUOaXE",
        "outputId": "164f2469-c1e7-4351-9d5e-512dc07fa3d1"
      },
      "source": [
        "df.plot(kind='bar',x='nome',y='idade')\n",
        "plt.xlabel('Nome',fontsize=12)\n",
        "plt.ylabel('Idade',fontsize=12)\n",
        "plt.title('Teste')\n",
        "plt.show()"
      ],
      "execution_count": null,
      "outputs": [
        {
          "output_type": "display_data",
          "data": {
            "image/png": "[encoded data removed]",
            "text/plain": [
              "<Figure size 432x288 with 1 Axes>"
            ]
          },
          "metadata": {
            "tags": [],
            "needs_background": "light"
          }
        }
      ]
    },
    {
      "cell_type": "code",
      "metadata": {
        "colab": {
          "base_uri": "https://localhost:8080/",
          "height": 316
        },
        "id": "eLJ4-EogPvuC",
        "outputId": "b22d7a2e-0301-4070-e8fb-688ece32dcc6"
      },
      "source": [
        "df.plot(kind='bar',x='nome',y='idade',color='red',label='Idade')\n",
        "plt.legend(loc='upper left')\n",
        "plt.show()"
      ],
      "execution_count": null,
      "outputs": [
        {
          "output_type": "display_data",
          "data": {
            "image/png": "[encoded data removed]",
            "text/plain": [
              "<Figure size 432x288 with 1 Axes>"
            ]
          },
          "metadata": {
            "tags": [],
            "needs_background": "light"
          }
        }
      ]
    },
    {
      "cell_type": "code",
      "metadata": {
        "colab": {
          "base_uri": "https://localhost:8080/",
          "height": 283
        },
        "id": "kBedPvs4QhsA",
        "outputId": "a76f4f45-4531-4ec5-a2dd-c73a0ebf5cfe"
      },
      "source": [
        "print(type(df.idade))\n",
        "\n",
        "df.idade.plot(kind='hist')\n",
        "\n",
        "plt.show()"
      ],
      "execution_count": null,
      "outputs": [
        {
          "output_type": "stream",
          "text": [
            "<class 'pandas.core.series.Series'>\n"
          ],
          "name": "stdout"
        },
        {
          "output_type": "display_data",
          "data": {
            "image/png": "[encoded data removed]",
            "text/plain": [
              "<Figure size 432x288 with 1 Axes>"
            ]
          },
          "metadata": {
            "tags": [],
            "needs_background": "light"
          }
        }
      ]
    },
    {
      "cell_type": "code",
      "metadata": {
        "colab": {
          "base_uri": "https://localhost:8080/",
          "height": 339
        },
        "id": "i8zcUzTBQ2Lv",
        "outputId": "31d8d9f2-ee76-4be0-ad5b-0b80de2a2a1f"
      },
      "source": [
        "df.groupby('estado').nome.nunique().plot(kind='bar')"
      ],
      "execution_count": null,
      "outputs": [
        {
          "output_type": "execute_result",
          "data": {
            "text/plain": [
              "<matplotlib.axes._subplots.AxesSubplot at 0x7feb953dcef0>"
            ]
          },
          "metadata": {
            "tags": []
          },
          "execution_count": 101
        },
        {
          "output_type": "display_data",
          "data": {
            "image/png": "[encoded data removed]",
            "text/plain": [
              "<Figure size 432x288 with 1 Axes>"
            ]
          },
          "metadata": {
            "tags": [],
            "needs_background": "light"
          }
        }
      ]
    },
    {
      "cell_type": "code",
      "metadata": {
        "colab": {
          "base_uri": "https://localhost:8080/",
          "height": 266
        },
        "id": "cLC0lREzShQZ",
        "outputId": "6fab082e-955d-46bf-c66d-ab2541d32926"
      },
      "source": [
        "df.plot.pie(y='num_animais',labels=df.nome)"
      ],
      "execution_count": null,
      "outputs": [
        {
          "output_type": "execute_result",
          "data": {
            "text/plain": [
              "<matplotlib.axes._subplots.AxesSubplot at 0x7feb958c9710>"
            ]
          },
          "metadata": {
            "tags": []
          },
          "execution_count": 103
        },
        {
          "output_type": "display_data",
          "data": {
            "image/png": "[encoded data removed]",
            "text/plain": [
              "<Figure size 432x288 with 1 Axes>"
            ]
          },
          "metadata": {
            "tags": []
          }
        }
      ]
    },
    {
      "cell_type": "code",
      "metadata": {
        "id": "xZpngU9yS_Ry"
      },
      "source": [
        "#Exercício\n",
        "\n",
        "df1=pd.read_csv('https://raw.githubusercontent.com/paulosalvatore/Ocean_CienciaDados_23_02_2021/main/netflix_titles.csv')"
      ],
      "execution_count": null,
      "outputs": []
    },
    {
      "cell_type": "code",
      "metadata": {
        "colab": {
          "base_uri": "https://localhost:8080/"
        },
        "id": "Mz5pHus-UjFn",
        "outputId": "a58998ea-03f6-40e4-b64a-7cc86204be9c"
      },
      "source": [
        "print(df1[pd.notnull(df1.country)])\n",
        "      \n",
        "print(df1[pd.notnull(df1.country)].describe())"
      ],
      "execution_count": null,
      "outputs": [
        {
          "output_type": "stream",
          "text": [
            "     show_id  ...                                        description\n",
            "0         s1  ...  In a future where the elite inhabit an island ...\n",
            "1         s2  ...  After a devastating earthquake hits Mexico Cit...\n",
            "2         s3  ...  When an army recruit is found dead, his fellow...\n",
            "3         s4  ...  In a postapocalyptic world, rag-doll robots hi...\n",
            "4         s5  ...  A brilliant group of students become card-coun...\n",
            "...      ...  ...                                                ...\n",
            "7781   s7782  ...  Dragged from civilian life, a former superhero...\n",
            "7782   s7783  ...  When Lebanon's Civil War deprives Zozo of his ...\n",
            "7783   s7784  ...  A scrappy but poor boy worms his way into a ty...\n",
            "7785   s7786  ...  Dessert wizard Adriano Zumbo looks for the nex...\n",
            "7786   s7787  ...  This documentary delves into the mystique behi...\n",
            "\n",
            "[7280 rows x 12 columns]\n",
            "       release_year\n",
            "count   7280.000000\n",
            "mean    2013.786126\n",
            "std        8.852953\n",
            "min     1942.000000\n",
            "25%     2013.000000\n",
            "50%     2017.000000\n",
            "75%     2018.000000\n",
            "max     2021.000000\n"
          ],
          "name": "stdout"
        }
      ]
    },
    {
      "cell_type": "code",
      "metadata": {
        "colab": {
          "base_uri": "https://localhost:8080/"
        },
        "id": "e4IrfMTkUtkO",
        "outputId": "2971a136-6398-4262-f307-7d309e0320b5"
      },
      "source": [
        "print(df1.country.fillna('Não Informado'))\n",
        "\n",
        "print(df1.country.fillna('Não Informado').describe())"
      ],
      "execution_count": null,
      "outputs": [
        {
          "output_type": "stream",
          "text": [
            "0                                                  Brazil\n",
            "1                                                  Mexico\n",
            "2                                               Singapore\n",
            "3                                           United States\n",
            "4                                           United States\n",
            "                              ...                        \n",
            "7782    Sweden, Czech Republic, United Kingdom, Denmar...\n",
            "7783                                                India\n",
            "7784                                        Não Informado\n",
            "7785                                            Australia\n",
            "7786                United Kingdom, Canada, United States\n",
            "Name: country, Length: 7787, dtype: object\n",
            "count              7787\n",
            "unique              682\n",
            "top       United States\n",
            "freq               2555\n",
            "Name: country, dtype: object\n"
          ],
          "name": "stdout"
        }
      ]
    },
    {
      "cell_type": "code",
      "metadata": {
        "colab": {
          "base_uri": "https://localhost:8080/"
        },
        "id": "Lp6uzbBJVN2K",
        "outputId": "94b861da-3958-4c56-cac4-0cc80fabacdd"
      },
      "source": [
        "df1_paises_preenchidos = df1[pd.notnull(df1.country)]\n",
        "\n",
        "print(type(df1_paises_preenchidos))\n",
        "print(df1_paises_preenchidos)"
      ],
      "execution_count": null,
      "outputs": [
        {
          "output_type": "stream",
          "text": [
            "<class 'pandas.core.frame.DataFrame'>\n",
            "     show_id  ...                                        description\n",
            "0         s1  ...  In a future where the elite inhabit an island ...\n",
            "1         s2  ...  After a devastating earthquake hits Mexico Cit...\n",
            "2         s3  ...  When an army recruit is found dead, his fellow...\n",
            "3         s4  ...  In a postapocalyptic world, rag-doll robots hi...\n",
            "4         s5  ...  A brilliant group of students become card-coun...\n",
            "...      ...  ...                                                ...\n",
            "7781   s7782  ...  Dragged from civilian life, a former superhero...\n",
            "7782   s7783  ...  When Lebanon's Civil War deprives Zozo of his ...\n",
            "7783   s7784  ...  A scrappy but poor boy worms his way into a ty...\n",
            "7785   s7786  ...  Dessert wizard Adriano Zumbo looks for the nex...\n",
            "7786   s7787  ...  This documentary delves into the mystique behi...\n",
            "\n",
            "[7280 rows x 12 columns]\n"
          ],
          "name": "stdout"
        }
      ]
    },
    {
      "cell_type": "code",
      "metadata": {
        "colab": {
          "base_uri": "https://localhost:8080/",
          "height": 515
        },
        "id": "7idrUkIfXPny",
        "outputId": "f5716cc3-fbbc-447c-8fcb-3bfe0100a60b"
      },
      "source": [
        "#df1.groupby('country').plot(kind='bar', x='country', y='release_year')\n",
        "\n",
        "df1_paises_preenchidos.head(20).plot(kind='scatter', x='country', y='release_year', figsize=(20, 8))"
      ],
      "execution_count": null,
      "outputs": [
        {
          "output_type": "execute_result",
          "data": {
            "text/plain": [
              "<matplotlib.axes._subplots.AxesSubplot at 0x7feb8012f898>"
            ]
          },
          "metadata": {
            "tags": []
          },
          "execution_count": 137
        },
        {
          "output_type": "display_data",
          "data": {
            "image/png": "[encoded data removed]",
            "text/plain": [
              "<Figure size 1440x576 with 1 Axes>"
            ]
          },
          "metadata": {
            "tags": [],
            "needs_background": "light"
          }
        }
      ]
    },
    {
      "cell_type": "code",
      "metadata": {
        "id": "aMg_OIhdZhlp"
      },
      "source": [
        ""
      ],
      "execution_count": null,
      "outputs": []
    }
  ]
}